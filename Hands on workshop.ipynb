{
 "cells": [
  {
   "cell_type": "code",
   "execution_count": 37,
   "metadata": {
    "id": "HvjBcDjOcVyd"
   },
   "outputs": [],
   "source": [
    "import pandas as pd\n",
    "import numpy as np"
   ]
  },
  {
   "cell_type": "code",
   "execution_count": 38,
   "metadata": {
    "colab": {
     "base_uri": "https://localhost:8080/",
     "height": 269
    },
    "id": "75GwTbXUlS2d",
    "outputId": "5088cd22-15b2-489b-fd30-a511f2d137cd"
   },
   "outputs": [
    {
     "data": {
      "text/html": [
       "<div>\n",
       "<style scoped>\n",
       "    .dataframe tbody tr th:only-of-type {\n",
       "        vertical-align: middle;\n",
       "    }\n",
       "\n",
       "    .dataframe tbody tr th {\n",
       "        vertical-align: top;\n",
       "    }\n",
       "\n",
       "    .dataframe thead th {\n",
       "        text-align: right;\n",
       "    }\n",
       "</style>\n",
       "<table border=\"1\" class=\"dataframe\">\n",
       "  <thead>\n",
       "    <tr style=\"text-align: right;\">\n",
       "      <th></th>\n",
       "      <th>Name</th>\n",
       "      <th>Marks</th>\n",
       "      <th>Gender</th>\n",
       "      <th>Email</th>\n",
       "    </tr>\n",
       "  </thead>\n",
       "  <tbody>\n",
       "    <tr>\n",
       "      <th>0</th>\n",
       "      <td>Priyang</td>\n",
       "      <td>98.0</td>\n",
       "      <td>Male</td>\n",
       "      <td>priyang@gmail.com</td>\n",
       "    </tr>\n",
       "    <tr>\n",
       "      <th>1</th>\n",
       "      <td>Aadhya</td>\n",
       "      <td>NaN</td>\n",
       "      <td>Female</td>\n",
       "      <td>aadhya@gmail.com</td>\n",
       "    </tr>\n",
       "    <tr>\n",
       "      <th>2</th>\n",
       "      <td>Krisha</td>\n",
       "      <td>99.0</td>\n",
       "      <td>Female</td>\n",
       "      <td>krisha@gmail.com</td>\n",
       "    </tr>\n",
       "    <tr>\n",
       "      <th>3</th>\n",
       "      <td>Vedant</td>\n",
       "      <td>87.0</td>\n",
       "      <td>Male</td>\n",
       "      <td>vedant@yahoo.com</td>\n",
       "    </tr>\n",
       "    <tr>\n",
       "      <th>4</th>\n",
       "      <td>Parshv</td>\n",
       "      <td>NaN</td>\n",
       "      <td>Male</td>\n",
       "      <td>parshv@hotmail.com</td>\n",
       "    </tr>\n",
       "    <tr>\n",
       "      <th>5</th>\n",
       "      <td>Mittal</td>\n",
       "      <td>83.0</td>\n",
       "      <td>Female</td>\n",
       "      <td>mittal@yahoo.com</td>\n",
       "    </tr>\n",
       "    <tr>\n",
       "      <th>6</th>\n",
       "      <td>Archana</td>\n",
       "      <td>99.0</td>\n",
       "      <td>Female</td>\n",
       "      <td>archana@yahoo.com</td>\n",
       "    </tr>\n",
       "  </tbody>\n",
       "</table>\n",
       "</div>"
      ],
      "text/plain": [
       "      Name  Marks  Gender               Email\n",
       "0  Priyang   98.0    Male   priyang@gmail.com\n",
       "1   Aadhya    NaN  Female    aadhya@gmail.com\n",
       "2   Krisha   99.0  Female    krisha@gmail.com\n",
       "3   Vedant   87.0    Male    vedant@yahoo.com\n",
       "4   Parshv    NaN    Male  parshv@hotmail.com\n",
       "5   Mittal   83.0  Female    mittal@yahoo.com\n",
       "6  Archana   99.0  Female   archana@yahoo.com"
      ]
     },
     "execution_count": 38,
     "metadata": {},
     "output_type": "execute_result"
    }
   ],
   "source": [
    "dict1 ={'Name':['Priyang','Aadhya','Krisha','Vedant','Parshv',\n",
    "                'Mittal','Archana'],\n",
    "                'Marks':[98,np.nan,99,87,np.nan,83,99],\n",
    "                'Gender':['Male','Female','Female','Male','Male',\n",
    "                         'Female','Female'],\n",
    "                'Email':['priyang@gmail.com','aadhya@gmail.com',\n",
    "                        'krisha@gmail.com','vedant@yahoo.com','parshv@hotmail.com',\n",
    "                         'mittal@yahoo.com','archana@yahoo.com']\n",
    "               }\n",
    "df1=pd.DataFrame(dict1)\n",
    "df1"
   ]
  },
  {
   "cell_type": "code",
   "execution_count": 39,
   "metadata": {
    "id": "u5VMwui6lisk"
   },
   "outputs": [],
   "source": [
    "# 1. Top 3 Rows of the dataset"
   ]
  },
  {
   "cell_type": "code",
   "execution_count": 40,
   "metadata": {
    "colab": {
     "base_uri": "https://localhost:8080/",
     "height": 143
    },
    "id": "JiGwdlqsmY9k",
    "outputId": "90b43d39-1e9a-4ff7-b645-3efe8f9593f2"
   },
   "outputs": [
    {
     "data": {
      "text/html": [
       "<div>\n",
       "<style scoped>\n",
       "    .dataframe tbody tr th:only-of-type {\n",
       "        vertical-align: middle;\n",
       "    }\n",
       "\n",
       "    .dataframe tbody tr th {\n",
       "        vertical-align: top;\n",
       "    }\n",
       "\n",
       "    .dataframe thead th {\n",
       "        text-align: right;\n",
       "    }\n",
       "</style>\n",
       "<table border=\"1\" class=\"dataframe\">\n",
       "  <thead>\n",
       "    <tr style=\"text-align: right;\">\n",
       "      <th></th>\n",
       "      <th>Name</th>\n",
       "      <th>Marks</th>\n",
       "      <th>Gender</th>\n",
       "      <th>Email</th>\n",
       "    </tr>\n",
       "  </thead>\n",
       "  <tbody>\n",
       "    <tr>\n",
       "      <th>0</th>\n",
       "      <td>Priyang</td>\n",
       "      <td>98.0</td>\n",
       "      <td>Male</td>\n",
       "      <td>priyang@gmail.com</td>\n",
       "    </tr>\n",
       "    <tr>\n",
       "      <th>1</th>\n",
       "      <td>Aadhya</td>\n",
       "      <td>NaN</td>\n",
       "      <td>Female</td>\n",
       "      <td>aadhya@gmail.com</td>\n",
       "    </tr>\n",
       "    <tr>\n",
       "      <th>2</th>\n",
       "      <td>Krisha</td>\n",
       "      <td>99.0</td>\n",
       "      <td>Female</td>\n",
       "      <td>krisha@gmail.com</td>\n",
       "    </tr>\n",
       "  </tbody>\n",
       "</table>\n",
       "</div>"
      ],
      "text/plain": [
       "      Name  Marks  Gender              Email\n",
       "0  Priyang   98.0    Male  priyang@gmail.com\n",
       "1   Aadhya    NaN  Female   aadhya@gmail.com\n",
       "2   Krisha   99.0  Female   krisha@gmail.com"
      ]
     },
     "execution_count": 40,
     "metadata": {},
     "output_type": "execute_result"
    }
   ],
   "source": [
    "df1.head(3)"
   ]
  },
  {
   "cell_type": "code",
   "execution_count": 41,
   "metadata": {
    "id": "-57rldO5mrlY"
   },
   "outputs": [],
   "source": [
    "# 2. Last 3 Rows of the dataset"
   ]
  },
  {
   "cell_type": "code",
   "execution_count": 42,
   "metadata": {
    "colab": {
     "base_uri": "https://localhost:8080/",
     "height": 143
    },
    "id": "8kvN-o_6m5JF",
    "outputId": "041434c6-1d19-4135-aef8-b63a2376b667"
   },
   "outputs": [
    {
     "data": {
      "text/html": [
       "<div>\n",
       "<style scoped>\n",
       "    .dataframe tbody tr th:only-of-type {\n",
       "        vertical-align: middle;\n",
       "    }\n",
       "\n",
       "    .dataframe tbody tr th {\n",
       "        vertical-align: top;\n",
       "    }\n",
       "\n",
       "    .dataframe thead th {\n",
       "        text-align: right;\n",
       "    }\n",
       "</style>\n",
       "<table border=\"1\" class=\"dataframe\">\n",
       "  <thead>\n",
       "    <tr style=\"text-align: right;\">\n",
       "      <th></th>\n",
       "      <th>Name</th>\n",
       "      <th>Marks</th>\n",
       "      <th>Gender</th>\n",
       "      <th>Email</th>\n",
       "    </tr>\n",
       "  </thead>\n",
       "  <tbody>\n",
       "    <tr>\n",
       "      <th>4</th>\n",
       "      <td>Parshv</td>\n",
       "      <td>NaN</td>\n",
       "      <td>Male</td>\n",
       "      <td>parshv@hotmail.com</td>\n",
       "    </tr>\n",
       "    <tr>\n",
       "      <th>5</th>\n",
       "      <td>Mittal</td>\n",
       "      <td>83.0</td>\n",
       "      <td>Female</td>\n",
       "      <td>mittal@yahoo.com</td>\n",
       "    </tr>\n",
       "    <tr>\n",
       "      <th>6</th>\n",
       "      <td>Archana</td>\n",
       "      <td>99.0</td>\n",
       "      <td>Female</td>\n",
       "      <td>archana@yahoo.com</td>\n",
       "    </tr>\n",
       "  </tbody>\n",
       "</table>\n",
       "</div>"
      ],
      "text/plain": [
       "      Name  Marks  Gender               Email\n",
       "4   Parshv    NaN    Male  parshv@hotmail.com\n",
       "5   Mittal   83.0  Female    mittal@yahoo.com\n",
       "6  Archana   99.0  Female   archana@yahoo.com"
      ]
     },
     "execution_count": 42,
     "metadata": {},
     "output_type": "execute_result"
    }
   ],
   "source": [
    "df1.tail(3)"
   ]
  },
  {
   "cell_type": "code",
   "execution_count": 43,
   "metadata": {
    "id": "oxxfYI_Zm7KE"
   },
   "outputs": [],
   "source": [
    "# All rows except the last 2 rows "
   ]
  },
  {
   "cell_type": "code",
   "execution_count": 44,
   "metadata": {
    "colab": {
     "base_uri": "https://localhost:8080/",
     "height": 206
    },
    "id": "wTUgQqFnnTIm",
    "outputId": "339253e1-b392-4614-d34d-0571655d28f1"
   },
   "outputs": [
    {
     "data": {
      "text/html": [
       "<div>\n",
       "<style scoped>\n",
       "    .dataframe tbody tr th:only-of-type {\n",
       "        vertical-align: middle;\n",
       "    }\n",
       "\n",
       "    .dataframe tbody tr th {\n",
       "        vertical-align: top;\n",
       "    }\n",
       "\n",
       "    .dataframe thead th {\n",
       "        text-align: right;\n",
       "    }\n",
       "</style>\n",
       "<table border=\"1\" class=\"dataframe\">\n",
       "  <thead>\n",
       "    <tr style=\"text-align: right;\">\n",
       "      <th></th>\n",
       "      <th>Name</th>\n",
       "      <th>Marks</th>\n",
       "      <th>Gender</th>\n",
       "      <th>Email</th>\n",
       "    </tr>\n",
       "  </thead>\n",
       "  <tbody>\n",
       "    <tr>\n",
       "      <th>0</th>\n",
       "      <td>Priyang</td>\n",
       "      <td>98.0</td>\n",
       "      <td>Male</td>\n",
       "      <td>priyang@gmail.com</td>\n",
       "    </tr>\n",
       "    <tr>\n",
       "      <th>1</th>\n",
       "      <td>Aadhya</td>\n",
       "      <td>NaN</td>\n",
       "      <td>Female</td>\n",
       "      <td>aadhya@gmail.com</td>\n",
       "    </tr>\n",
       "    <tr>\n",
       "      <th>2</th>\n",
       "      <td>Krisha</td>\n",
       "      <td>99.0</td>\n",
       "      <td>Female</td>\n",
       "      <td>krisha@gmail.com</td>\n",
       "    </tr>\n",
       "    <tr>\n",
       "      <th>3</th>\n",
       "      <td>Vedant</td>\n",
       "      <td>87.0</td>\n",
       "      <td>Male</td>\n",
       "      <td>vedant@yahoo.com</td>\n",
       "    </tr>\n",
       "    <tr>\n",
       "      <th>4</th>\n",
       "      <td>Parshv</td>\n",
       "      <td>NaN</td>\n",
       "      <td>Male</td>\n",
       "      <td>parshv@hotmail.com</td>\n",
       "    </tr>\n",
       "  </tbody>\n",
       "</table>\n",
       "</div>"
      ],
      "text/plain": [
       "      Name  Marks  Gender               Email\n",
       "0  Priyang   98.0    Male   priyang@gmail.com\n",
       "1   Aadhya    NaN  Female    aadhya@gmail.com\n",
       "2   Krisha   99.0  Female    krisha@gmail.com\n",
       "3   Vedant   87.0    Male    vedant@yahoo.com\n",
       "4   Parshv    NaN    Male  parshv@hotmail.com"
      ]
     },
     "execution_count": 44,
     "metadata": {},
     "output_type": "execute_result"
    }
   ],
   "source": [
    "df1.head(-2)"
   ]
  },
  {
   "cell_type": "code",
   "execution_count": 45,
   "metadata": {
    "id": "mgZd7qRpnZUv"
   },
   "outputs": [],
   "source": [
    "# all rows except the first 3 rows "
   ]
  },
  {
   "cell_type": "code",
   "execution_count": 46,
   "metadata": {
    "colab": {
     "base_uri": "https://localhost:8080/",
     "height": 175
    },
    "id": "qZb5R6nVnitl",
    "outputId": "921c52e9-9880-4046-faad-6c3a2646fd8f"
   },
   "outputs": [
    {
     "data": {
      "text/html": [
       "<div>\n",
       "<style scoped>\n",
       "    .dataframe tbody tr th:only-of-type {\n",
       "        vertical-align: middle;\n",
       "    }\n",
       "\n",
       "    .dataframe tbody tr th {\n",
       "        vertical-align: top;\n",
       "    }\n",
       "\n",
       "    .dataframe thead th {\n",
       "        text-align: right;\n",
       "    }\n",
       "</style>\n",
       "<table border=\"1\" class=\"dataframe\">\n",
       "  <thead>\n",
       "    <tr style=\"text-align: right;\">\n",
       "      <th></th>\n",
       "      <th>Name</th>\n",
       "      <th>Marks</th>\n",
       "      <th>Gender</th>\n",
       "      <th>Email</th>\n",
       "    </tr>\n",
       "  </thead>\n",
       "  <tbody>\n",
       "    <tr>\n",
       "      <th>3</th>\n",
       "      <td>Vedant</td>\n",
       "      <td>87.0</td>\n",
       "      <td>Male</td>\n",
       "      <td>vedant@yahoo.com</td>\n",
       "    </tr>\n",
       "    <tr>\n",
       "      <th>4</th>\n",
       "      <td>Parshv</td>\n",
       "      <td>NaN</td>\n",
       "      <td>Male</td>\n",
       "      <td>parshv@hotmail.com</td>\n",
       "    </tr>\n",
       "    <tr>\n",
       "      <th>5</th>\n",
       "      <td>Mittal</td>\n",
       "      <td>83.0</td>\n",
       "      <td>Female</td>\n",
       "      <td>mittal@yahoo.com</td>\n",
       "    </tr>\n",
       "    <tr>\n",
       "      <th>6</th>\n",
       "      <td>Archana</td>\n",
       "      <td>99.0</td>\n",
       "      <td>Female</td>\n",
       "      <td>archana@yahoo.com</td>\n",
       "    </tr>\n",
       "  </tbody>\n",
       "</table>\n",
       "</div>"
      ],
      "text/plain": [
       "      Name  Marks  Gender               Email\n",
       "3   Vedant   87.0    Male    vedant@yahoo.com\n",
       "4   Parshv    NaN    Male  parshv@hotmail.com\n",
       "5   Mittal   83.0  Female    mittal@yahoo.com\n",
       "6  Archana   99.0  Female   archana@yahoo.com"
      ]
     },
     "execution_count": 46,
     "metadata": {},
     "output_type": "execute_result"
    }
   ],
   "source": [
    "df1.tail(-3)"
   ]
  },
  {
   "cell_type": "code",
   "execution_count": 47,
   "metadata": {
    "id": "ARXbw-Ehnl9j"
   },
   "outputs": [],
   "source": [
    "# find the shape of our dataset"
   ]
  },
  {
   "cell_type": "code",
   "execution_count": 48,
   "metadata": {
    "colab": {
     "base_uri": "https://localhost:8080/"
    },
    "id": "eYCHBjSFn7g1",
    "outputId": "7b287fa4-ca85-4a71-b916-d245feef845e"
   },
   "outputs": [
    {
     "data": {
      "text/plain": [
       "(7, 4)"
      ]
     },
     "execution_count": 48,
     "metadata": {},
     "output_type": "execute_result"
    }
   ],
   "source": [
    "df1.shape"
   ]
  },
  {
   "cell_type": "code",
   "execution_count": 49,
   "metadata": {
    "colab": {
     "base_uri": "https://localhost:8080/"
    },
    "id": "z4_124_9n9yN",
    "outputId": "1cde272a-358b-4bfd-d470-b1f15559a844"
   },
   "outputs": [
    {
     "name": "stdout",
     "output_type": "stream",
     "text": [
      "Number of Rows 7\n",
      "Number of Columns 4\n"
     ]
    }
   ],
   "source": [
    "print(\"Number of Rows\",df1.shape[0])\n",
    "print(\"Number of Columns\",df1.shape[1])"
   ]
  },
  {
   "cell_type": "code",
   "execution_count": 50,
   "metadata": {
    "colab": {
     "base_uri": "https://localhost:8080/",
     "height": 269
    },
    "id": "V6MCKE74oIwA",
    "outputId": "0d5bbf72-ec78-479a-d59b-bcb8be319a50"
   },
   "outputs": [
    {
     "data": {
      "text/html": [
       "<div>\n",
       "<style scoped>\n",
       "    .dataframe tbody tr th:only-of-type {\n",
       "        vertical-align: middle;\n",
       "    }\n",
       "\n",
       "    .dataframe tbody tr th {\n",
       "        vertical-align: top;\n",
       "    }\n",
       "\n",
       "    .dataframe thead th {\n",
       "        text-align: right;\n",
       "    }\n",
       "</style>\n",
       "<table border=\"1\" class=\"dataframe\">\n",
       "  <thead>\n",
       "    <tr style=\"text-align: right;\">\n",
       "      <th></th>\n",
       "      <th>Name</th>\n",
       "      <th>Marks</th>\n",
       "      <th>Gender</th>\n",
       "      <th>Email</th>\n",
       "    </tr>\n",
       "  </thead>\n",
       "  <tbody>\n",
       "    <tr>\n",
       "      <th>0</th>\n",
       "      <td>Priyang</td>\n",
       "      <td>98.0</td>\n",
       "      <td>Male</td>\n",
       "      <td>priyang@gmail.com</td>\n",
       "    </tr>\n",
       "    <tr>\n",
       "      <th>1</th>\n",
       "      <td>Aadhya</td>\n",
       "      <td>NaN</td>\n",
       "      <td>Female</td>\n",
       "      <td>aadhya@gmail.com</td>\n",
       "    </tr>\n",
       "    <tr>\n",
       "      <th>2</th>\n",
       "      <td>Krisha</td>\n",
       "      <td>99.0</td>\n",
       "      <td>Female</td>\n",
       "      <td>krisha@gmail.com</td>\n",
       "    </tr>\n",
       "    <tr>\n",
       "      <th>3</th>\n",
       "      <td>Vedant</td>\n",
       "      <td>87.0</td>\n",
       "      <td>Male</td>\n",
       "      <td>vedant@yahoo.com</td>\n",
       "    </tr>\n",
       "    <tr>\n",
       "      <th>4</th>\n",
       "      <td>Parshv</td>\n",
       "      <td>NaN</td>\n",
       "      <td>Male</td>\n",
       "      <td>parshv@hotmail.com</td>\n",
       "    </tr>\n",
       "    <tr>\n",
       "      <th>5</th>\n",
       "      <td>Mittal</td>\n",
       "      <td>83.0</td>\n",
       "      <td>Female</td>\n",
       "      <td>mittal@yahoo.com</td>\n",
       "    </tr>\n",
       "    <tr>\n",
       "      <th>6</th>\n",
       "      <td>Archana</td>\n",
       "      <td>99.0</td>\n",
       "      <td>Female</td>\n",
       "      <td>archana@yahoo.com</td>\n",
       "    </tr>\n",
       "  </tbody>\n",
       "</table>\n",
       "</div>"
      ],
      "text/plain": [
       "      Name  Marks  Gender               Email\n",
       "0  Priyang   98.0    Male   priyang@gmail.com\n",
       "1   Aadhya    NaN  Female    aadhya@gmail.com\n",
       "2   Krisha   99.0  Female    krisha@gmail.com\n",
       "3   Vedant   87.0    Male    vedant@yahoo.com\n",
       "4   Parshv    NaN    Male  parshv@hotmail.com\n",
       "5   Mittal   83.0  Female    mittal@yahoo.com\n",
       "6  Archana   99.0  Female   archana@yahoo.com"
      ]
     },
     "execution_count": 50,
     "metadata": {},
     "output_type": "execute_result"
    }
   ],
   "source": [
    "df1"
   ]
  },
  {
   "cell_type": "code",
   "execution_count": 51,
   "metadata": {
    "colab": {
     "base_uri": "https://localhost:8080/"
    },
    "id": "v_BJsoG8ohKY",
    "outputId": "962292a2-5391-4ec2-86b1-66f5f19a703d"
   },
   "outputs": [
    {
     "data": {
      "text/plain": [
       "(7,)"
      ]
     },
     "execution_count": 51,
     "metadata": {},
     "output_type": "execute_result"
    }
   ],
   "source": [
    "df1['Marks'].shape"
   ]
  },
  {
   "cell_type": "code",
   "execution_count": 52,
   "metadata": {
    "id": "Uc_uwrM7oxaE"
   },
   "outputs": [],
   "source": [
    "# get information about our dataset"
   ]
  },
  {
   "cell_type": "code",
   "execution_count": 53,
   "metadata": {
    "colab": {
     "base_uri": "https://localhost:8080/"
    },
    "id": "YNWbTX5mpEBY",
    "outputId": "48bd3405-cd0a-482f-83d6-4fd8916a4422"
   },
   "outputs": [
    {
     "name": "stdout",
     "output_type": "stream",
     "text": [
      "<class 'pandas.core.frame.DataFrame'>\n",
      "RangeIndex: 7 entries, 0 to 6\n",
      "Data columns (total 4 columns):\n",
      " #   Column  Non-Null Count  Dtype  \n",
      "---  ------  --------------  -----  \n",
      " 0   Name    7 non-null      object \n",
      " 1   Marks   5 non-null      float64\n",
      " 2   Gender  7 non-null      object \n",
      " 3   Email   7 non-null      object \n",
      "dtypes: float64(1), object(3)\n",
      "memory usage: 356.0+ bytes\n"
     ]
    }
   ],
   "source": [
    "df1.info()"
   ]
  },
  {
   "cell_type": "code",
   "execution_count": 54,
   "metadata": {
    "id": "OjdYQrLZpHf-"
   },
   "outputs": [],
   "source": [
    "# check null values in our dataset"
   ]
  },
  {
   "cell_type": "code",
   "execution_count": 55,
   "metadata": {
    "colab": {
     "base_uri": "https://localhost:8080/"
    },
    "id": "b7fGyaBAphSC",
    "outputId": "414c9ae2-6fd1-4ac6-ad70-3c3463579395"
   },
   "outputs": [
    {
     "data": {
      "text/plain": [
       "Name      0\n",
       "Marks     2\n",
       "Gender    0\n",
       "Email     0\n",
       "dtype: int64"
      ]
     },
     "execution_count": 55,
     "metadata": {},
     "output_type": "execute_result"
    }
   ],
   "source": [
    "df1.isnull().sum()"
   ]
  },
  {
   "cell_type": "code",
   "execution_count": 56,
   "metadata": {
    "id": "78Ck4jUXpmE5"
   },
   "outputs": [],
   "source": [
    "# get overall statistics about the dataset"
   ]
  },
  {
   "cell_type": "code",
   "execution_count": 57,
   "metadata": {
    "colab": {
     "base_uri": "https://localhost:8080/",
     "height": 394
    },
    "id": "83ZR6vFxp2kr",
    "outputId": "fc4e2b71-ddf7-47a4-f1cf-c13dd2019b2c"
   },
   "outputs": [
    {
     "data": {
      "text/html": [
       "<div>\n",
       "<style scoped>\n",
       "    .dataframe tbody tr th:only-of-type {\n",
       "        vertical-align: middle;\n",
       "    }\n",
       "\n",
       "    .dataframe tbody tr th {\n",
       "        vertical-align: top;\n",
       "    }\n",
       "\n",
       "    .dataframe thead th {\n",
       "        text-align: right;\n",
       "    }\n",
       "</style>\n",
       "<table border=\"1\" class=\"dataframe\">\n",
       "  <thead>\n",
       "    <tr style=\"text-align: right;\">\n",
       "      <th></th>\n",
       "      <th>Name</th>\n",
       "      <th>Marks</th>\n",
       "      <th>Gender</th>\n",
       "      <th>Email</th>\n",
       "    </tr>\n",
       "  </thead>\n",
       "  <tbody>\n",
       "    <tr>\n",
       "      <th>count</th>\n",
       "      <td>7</td>\n",
       "      <td>5.000000</td>\n",
       "      <td>7</td>\n",
       "      <td>7</td>\n",
       "    </tr>\n",
       "    <tr>\n",
       "      <th>unique</th>\n",
       "      <td>7</td>\n",
       "      <td>NaN</td>\n",
       "      <td>2</td>\n",
       "      <td>7</td>\n",
       "    </tr>\n",
       "    <tr>\n",
       "      <th>top</th>\n",
       "      <td>Priyang</td>\n",
       "      <td>NaN</td>\n",
       "      <td>Female</td>\n",
       "      <td>priyang@gmail.com</td>\n",
       "    </tr>\n",
       "    <tr>\n",
       "      <th>freq</th>\n",
       "      <td>1</td>\n",
       "      <td>NaN</td>\n",
       "      <td>4</td>\n",
       "      <td>1</td>\n",
       "    </tr>\n",
       "    <tr>\n",
       "      <th>mean</th>\n",
       "      <td>NaN</td>\n",
       "      <td>93.200000</td>\n",
       "      <td>NaN</td>\n",
       "      <td>NaN</td>\n",
       "    </tr>\n",
       "    <tr>\n",
       "      <th>std</th>\n",
       "      <td>NaN</td>\n",
       "      <td>7.628892</td>\n",
       "      <td>NaN</td>\n",
       "      <td>NaN</td>\n",
       "    </tr>\n",
       "    <tr>\n",
       "      <th>min</th>\n",
       "      <td>NaN</td>\n",
       "      <td>83.000000</td>\n",
       "      <td>NaN</td>\n",
       "      <td>NaN</td>\n",
       "    </tr>\n",
       "    <tr>\n",
       "      <th>25%</th>\n",
       "      <td>NaN</td>\n",
       "      <td>87.000000</td>\n",
       "      <td>NaN</td>\n",
       "      <td>NaN</td>\n",
       "    </tr>\n",
       "    <tr>\n",
       "      <th>50%</th>\n",
       "      <td>NaN</td>\n",
       "      <td>98.000000</td>\n",
       "      <td>NaN</td>\n",
       "      <td>NaN</td>\n",
       "    </tr>\n",
       "    <tr>\n",
       "      <th>75%</th>\n",
       "      <td>NaN</td>\n",
       "      <td>99.000000</td>\n",
       "      <td>NaN</td>\n",
       "      <td>NaN</td>\n",
       "    </tr>\n",
       "    <tr>\n",
       "      <th>max</th>\n",
       "      <td>NaN</td>\n",
       "      <td>99.000000</td>\n",
       "      <td>NaN</td>\n",
       "      <td>NaN</td>\n",
       "    </tr>\n",
       "  </tbody>\n",
       "</table>\n",
       "</div>"
      ],
      "text/plain": [
       "           Name      Marks  Gender              Email\n",
       "count         7   5.000000       7                  7\n",
       "unique        7        NaN       2                  7\n",
       "top     Priyang        NaN  Female  priyang@gmail.com\n",
       "freq          1        NaN       4                  1\n",
       "mean        NaN  93.200000     NaN                NaN\n",
       "std         NaN   7.628892     NaN                NaN\n",
       "min         NaN  83.000000     NaN                NaN\n",
       "25%         NaN  87.000000     NaN                NaN\n",
       "50%         NaN  98.000000     NaN                NaN\n",
       "75%         NaN  99.000000     NaN                NaN\n",
       "max         NaN  99.000000     NaN                NaN"
      ]
     },
     "execution_count": 57,
     "metadata": {},
     "output_type": "execute_result"
    }
   ],
   "source": [
    "df1.describe(include='all')"
   ]
  },
  {
   "cell_type": "code",
   "execution_count": 58,
   "metadata": {
    "id": "uv3viE8sp5EB"
   },
   "outputs": [],
   "source": [
    "# find unique values from the gender column"
   ]
  },
  {
   "cell_type": "code",
   "execution_count": 59,
   "metadata": {
    "colab": {
     "base_uri": "https://localhost:8080/"
    },
    "id": "bqmIUa4kqoeC",
    "outputId": "2f9220c5-e7e8-4f4e-9d4a-9b86c5aeb96b"
   },
   "outputs": [
    {
     "data": {
      "text/plain": [
       "Index(['Name', 'Marks', 'Gender', 'Email'], dtype='object')"
      ]
     },
     "execution_count": 59,
     "metadata": {},
     "output_type": "execute_result"
    }
   ],
   "source": [
    "df1.columns"
   ]
  },
  {
   "cell_type": "code",
   "execution_count": 60,
   "metadata": {
    "colab": {
     "base_uri": "https://localhost:8080/"
    },
    "id": "ZDx-cfegqqR2",
    "outputId": "1b4b47c4-3a8c-4dca-8c48-c1b6117bd453"
   },
   "outputs": [
    {
     "data": {
      "text/plain": [
       "array(['Priyang', 'Aadhya', 'Krisha', 'Vedant', 'Parshv', 'Mittal',\n",
       "       'Archana'], dtype=object)"
      ]
     },
     "execution_count": 60,
     "metadata": {},
     "output_type": "execute_result"
    }
   ],
   "source": [
    "df1['Name'].unique()"
   ]
  },
  {
   "cell_type": "code",
   "execution_count": 61,
   "metadata": {
    "colab": {
     "base_uri": "https://localhost:8080/",
     "height": 288
    },
    "id": "LwEK2t2AqyTR",
    "outputId": "b2d8d443-a115-46d4-ea5a-dd27a16a2721"
   },
   "outputs": [
    {
     "ename": "AttributeError",
     "evalue": "'DataFrame' object has no attribute 'unique'",
     "output_type": "error",
     "traceback": [
      "\u001b[1;31m---------------------------------------------------------------------------\u001b[0m",
      "\u001b[1;31mAttributeError\u001b[0m                            Traceback (most recent call last)",
      "\u001b[1;32m~\\AppData\\Local\\Temp\\ipykernel_11092\\51426298.py\u001b[0m in \u001b[0;36m?\u001b[1;34m()\u001b[0m\n\u001b[1;32m----> 1\u001b[1;33m \u001b[0mdf1\u001b[0m\u001b[1;33m.\u001b[0m\u001b[0munique\u001b[0m\u001b[1;33m(\u001b[0m\u001b[1;33m)\u001b[0m\u001b[1;33m\u001b[0m\u001b[1;33m\u001b[0m\u001b[0m\n\u001b[0m",
      "\u001b[1;32m~\\anaconda3\\Lib\\site-packages\\pandas\\core\\generic.py\u001b[0m in \u001b[0;36m?\u001b[1;34m(self, name)\u001b[0m\n\u001b[0;32m   6295\u001b[0m             \u001b[1;32mand\u001b[0m \u001b[0mname\u001b[0m \u001b[1;32mnot\u001b[0m \u001b[1;32min\u001b[0m \u001b[0mself\u001b[0m\u001b[1;33m.\u001b[0m\u001b[0m_accessors\u001b[0m\u001b[1;33m\u001b[0m\u001b[1;33m\u001b[0m\u001b[0m\n\u001b[0;32m   6296\u001b[0m             \u001b[1;32mand\u001b[0m \u001b[0mself\u001b[0m\u001b[1;33m.\u001b[0m\u001b[0m_info_axis\u001b[0m\u001b[1;33m.\u001b[0m\u001b[0m_can_hold_identifiers_and_holds_name\u001b[0m\u001b[1;33m(\u001b[0m\u001b[0mname\u001b[0m\u001b[1;33m)\u001b[0m\u001b[1;33m\u001b[0m\u001b[1;33m\u001b[0m\u001b[0m\n\u001b[0;32m   6297\u001b[0m         \u001b[1;33m)\u001b[0m\u001b[1;33m:\u001b[0m\u001b[1;33m\u001b[0m\u001b[1;33m\u001b[0m\u001b[0m\n\u001b[0;32m   6298\u001b[0m             \u001b[1;32mreturn\u001b[0m \u001b[0mself\u001b[0m\u001b[1;33m[\u001b[0m\u001b[0mname\u001b[0m\u001b[1;33m]\u001b[0m\u001b[1;33m\u001b[0m\u001b[1;33m\u001b[0m\u001b[0m\n\u001b[1;32m-> 6299\u001b[1;33m         \u001b[1;32mreturn\u001b[0m \u001b[0mobject\u001b[0m\u001b[1;33m.\u001b[0m\u001b[0m__getattribute__\u001b[0m\u001b[1;33m(\u001b[0m\u001b[0mself\u001b[0m\u001b[1;33m,\u001b[0m \u001b[0mname\u001b[0m\u001b[1;33m)\u001b[0m\u001b[1;33m\u001b[0m\u001b[1;33m\u001b[0m\u001b[0m\n\u001b[0m",
      "\u001b[1;31mAttributeError\u001b[0m: 'DataFrame' object has no attribute 'unique'"
     ]
    }
   ],
   "source": [
    "df1.unique()"
   ]
  },
  {
   "cell_type": "code",
   "execution_count": null,
   "metadata": {
    "id": "eWTkFICyrDo1"
   },
   "outputs": [],
   "source": [
    "# find the number of unique values from the gender column"
   ]
  },
  {
   "cell_type": "code",
   "execution_count": null,
   "metadata": {
    "colab": {
     "base_uri": "https://localhost:8080/",
     "height": 269
    },
    "id": "-VCJX_gkrUz4",
    "outputId": "cf656f19-9dfd-41e4-b0ae-18628a2ee3ea"
   },
   "outputs": [],
   "source": [
    "df1"
   ]
  },
  {
   "cell_type": "code",
   "execution_count": null,
   "metadata": {
    "colab": {
     "base_uri": "https://localhost:8080/"
    },
    "id": "sVMYnW5lr-Dt",
    "outputId": "9e01dce2-c060-4249-bc1c-daef9810a29d"
   },
   "outputs": [],
   "source": [
    "df1['Gender'].nunique()"
   ]
  },
  {
   "cell_type": "code",
   "execution_count": null,
   "metadata": {
    "colab": {
     "base_uri": "https://localhost:8080/"
    },
    "id": "vpDGJqcjsBq_",
    "outputId": "04c0871b-7587-4536-86f9-0f5572af31a4"
   },
   "outputs": [],
   "source": [
    "df1.nunique()"
   ]
  },
  {
   "cell_type": "code",
   "execution_count": null,
   "metadata": {
    "id": "OE4k09qWsL4A"
   },
   "outputs": [],
   "source": [
    "# Display count of unique values in gender column"
   ]
  },
  {
   "cell_type": "code",
   "execution_count": null,
   "metadata": {
    "colab": {
     "base_uri": "https://localhost:8080/"
    },
    "id": "rzgbrB0Nscwh",
    "outputId": "a5f27a69-44f3-4332-a156-172ebcf445ca"
   },
   "outputs": [],
   "source": [
    "df1['Gender'].value_counts()"
   ]
  },
  {
   "cell_type": "code",
   "execution_count": null,
   "metadata": {
    "colab": {
     "base_uri": "https://localhost:8080/",
     "height": 269
    },
    "id": "MEKUh3Slsizw",
    "outputId": "6479bbba-9272-4f6c-a409-990b58494cdd"
   },
   "outputs": [],
   "source": [
    "df1"
   ]
  },
  {
   "cell_type": "code",
   "execution_count": null,
   "metadata": {
    "id": "y7airZoRswL3"
   },
   "outputs": [],
   "source": [
    "# Handling missing values"
   ]
  },
  {
   "cell_type": "code",
   "execution_count": null,
   "metadata": {
    "colab": {
     "base_uri": "https://localhost:8080/",
     "height": 269
    },
    "id": "1KOg4NUGs5v5",
    "outputId": "a24af675-9616-43b2-b125-df3ae1a77ab5"
   },
   "outputs": [],
   "source": [
    "df1"
   ]
  },
  {
   "cell_type": "code",
   "execution_count": null,
   "metadata": {
    "colab": {
     "base_uri": "https://localhost:8080/",
     "height": 269
    },
    "id": "788Ywq64s6s9",
    "outputId": "63f7791c-5667-425c-b1d9-120e08764a7b"
   },
   "outputs": [],
   "source": [
    "df1.dropna(how='all')"
   ]
  },
  {
   "cell_type": "code",
   "execution_count": null,
   "metadata": {
    "colab": {
     "base_uri": "https://localhost:8080/",
     "height": 269
    },
    "id": "cp0vOToJtBYI",
    "outputId": "a8461a8a-1a68-4773-e4d9-578373951175"
   },
   "outputs": [],
   "source": [
    "df1"
   ]
  },
  {
   "cell_type": "code",
   "execution_count": null,
   "metadata": {
    "colab": {
     "base_uri": "https://localhost:8080/",
     "height": 269
    },
    "id": "HdvS3WD7tY6Z",
    "outputId": "f4a5c4ba-97a4-4473-83db-64c625f2fc6b"
   },
   "outputs": [],
   "source": [
    "df1.fillna(0)"
   ]
  },
  {
   "cell_type": "code",
   "execution_count": null,
   "metadata": {
    "id": "Q6SVEpZctc1R"
   },
   "outputs": [],
   "source": [
    "df1['Marks']=df1['Marks'].fillna(df1['Marks'].mean())"
   ]
  },
  {
   "cell_type": "code",
   "execution_count": null,
   "metadata": {
    "colab": {
     "base_uri": "https://localhost:8080/",
     "height": 269
    },
    "id": "kruvPJlPtprR",
    "outputId": "c568cf3f-4444-47a5-996c-9b5818e0f488"
   },
   "outputs": [],
   "source": [
    "df1"
   ]
  },
  {
   "cell_type": "code",
   "execution_count": null,
   "metadata": {
    "colab": {
     "base_uri": "https://localhost:8080/",
     "height": 269
    },
    "id": "L5vKITIgt2RR",
    "outputId": "f59eb911-658f-435b-dd19-57ed68f9d573"
   },
   "outputs": [],
   "source": [
    "df1"
   ]
  },
  {
   "cell_type": "code",
   "execution_count": null,
   "metadata": {
    "id": "GlGMV9R9uNSP"
   },
   "outputs": [],
   "source": [
    "# marks between 80 to 90"
   ]
  },
  {
   "cell_type": "code",
   "execution_count": null,
   "metadata": {
    "colab": {
     "base_uri": "https://localhost:8080/"
    },
    "id": "dGXYh6KjuRcD",
    "outputId": "5397ed3e-f02b-4c00-82cb-b522472b692c"
   },
   "outputs": [],
   "source": [
    "sum((df1['Marks']>=80) & (df1['Marks']<=90))"
   ]
  },
  {
   "cell_type": "code",
   "execution_count": null,
   "metadata": {
    "colab": {
     "base_uri": "https://localhost:8080/"
    },
    "id": "k58wV0VjuWFx",
    "outputId": "ea8435da-14f5-4bbe-f109-e8e0b1ce646f"
   },
   "outputs": [],
   "source": [
    "sum(df1['Marks'].between(80,90))"
   ]
  },
  {
   "cell_type": "code",
   "execution_count": null,
   "metadata": {
    "id": "09ysgdirupCS"
   },
   "outputs": [],
   "source": [
    "# Name of the students with lowest marks"
   ]
  },
  {
   "cell_type": "code",
   "execution_count": null,
   "metadata": {
    "colab": {
     "base_uri": "https://localhost:8080/"
    },
    "id": "hklFmDRdvA-v",
    "outputId": "03410f2f-7ff6-4b15-d302-c38cf7f30b26"
   },
   "outputs": [],
   "source": [
    "df1.columns"
   ]
  },
  {
   "cell_type": "code",
   "execution_count": null,
   "metadata": {
    "colab": {
     "base_uri": "https://localhost:8080/"
    },
    "id": "ErNeTDMvvOCj",
    "outputId": "69a7f00f-0fa0-4d56-f3a1-817ecbab06dd"
   },
   "outputs": [],
   "source": [
    "df1[df1['Marks'].min() == df1['Marks']]['Name']"
   ]
  },
  {
   "cell_type": "code",
   "execution_count": null,
   "metadata": {
    "id": "yVhCmxSAvRZ3"
   },
   "outputs": [],
   "source": [
    "# Top 5 students by their marks"
   ]
  },
  {
   "cell_type": "code",
   "execution_count": null,
   "metadata": {
    "colab": {
     "base_uri": "https://localhost:8080/"
    },
    "id": "us9kUkQ8v4Xd",
    "outputId": "ccc0a2f0-dbf1-4062-ce4f-71c3582e69e5"
   },
   "outputs": [],
   "source": [
    "df1.columns"
   ]
  },
  {
   "cell_type": "code",
   "execution_count": null,
   "metadata": {
    "colab": {
     "base_uri": "https://localhost:8080/",
     "height": 206
    },
    "id": "MfKB1FgKv9Pz",
    "outputId": "3003f743-5093-4459-940b-a50e3d97d279"
   },
   "outputs": [],
   "source": [
    "df1.nlargest(5,'Marks')[['Name','Marks']]"
   ]
  },
  {
   "cell_type": "code",
   "execution_count": null,
   "metadata": {
    "colab": {
     "base_uri": "https://localhost:8080/",
     "height": 206
    },
    "id": "n6Z4v9ytv_9V",
    "outputId": "58461589-ebcf-402a-d149-54c00731ab43"
   },
   "outputs": [],
   "source": [
    "df1.sort_values(by='Marks',ascending=False).head()[['Name','Marks']]"
   ]
  },
  {
   "cell_type": "code",
   "execution_count": null,
   "metadata": {
    "id": "zzw00UM1wqfa"
   },
   "outputs": [],
   "source": [
    "# Find Avg marks"
   ]
  },
  {
   "cell_type": "code",
   "execution_count": null,
   "metadata": {
    "colab": {
     "base_uri": "https://localhost:8080/",
     "height": 269
    },
    "id": "LktsEio9w8Tm",
    "outputId": "badc7908-6180-46b6-8c1e-3389a77fd208"
   },
   "outputs": [],
   "source": [
    "df1"
   ]
  },
  {
   "cell_type": "code",
   "execution_count": null,
   "metadata": {
    "colab": {
     "base_uri": "https://localhost:8080/"
    },
    "id": "Imh3Ekvuw91O",
    "outputId": "99e4b3c3-cd6d-40d3-9dd6-ed6be52446b7"
   },
   "outputs": [],
   "source": [
    "df1['Marks'].mean()"
   ]
  },
  {
   "cell_type": "code",
   "execution_count": null,
   "metadata": {
    "colab": {
     "base_uri": "https://localhost:8080/"
    },
    "id": "ZeFgGGzsxBWr",
    "outputId": "ab1aa6b4-91f1-4bad-a0a8-d2618e02b49c"
   },
   "outputs": [],
   "source": [
    "df1['Marks'].min()"
   ]
  },
  {
   "cell_type": "code",
   "execution_count": null,
   "metadata": {
    "colab": {
     "base_uri": "https://localhost:8080/"
    },
    "id": "hYgccSEUxFRf",
    "outputId": "7bb109c4-45b4-48bd-c780-94628f3e5d8a"
   },
   "outputs": [],
   "source": [
    "df1['Marks'].max()"
   ]
  },
  {
   "cell_type": "code",
   "execution_count": null,
   "metadata": {
    "id": "geHSxFMbxHZw"
   },
   "outputs": [],
   "source": [
    "# Apply Method"
   ]
  },
  {
   "cell_type": "code",
   "execution_count": null,
   "metadata": {
    "colab": {
     "base_uri": "https://localhost:8080/",
     "height": 269
    },
    "id": "pYbctz4oxMvz",
    "outputId": "55f213ba-67e1-43eb-dce7-9bdf981e9116"
   },
   "outputs": [],
   "source": [
    "df1"
   ]
  },
  {
   "cell_type": "code",
   "execution_count": null,
   "metadata": {
    "id": "WnniXvwDxiN_"
   },
   "outputs": [],
   "source": [
    "def marks(x):\n",
    "  return x//2"
   ]
  },
  {
   "cell_type": "code",
   "execution_count": null,
   "metadata": {
    "id": "JeAppLA_xOni"
   },
   "outputs": [],
   "source": [
    "df1['Half_marks']=df1['Marks'].apply(marks)"
   ]
  },
  {
   "cell_type": "code",
   "execution_count": null,
   "metadata": {
    "colab": {
     "base_uri": "https://localhost:8080/",
     "height": 269
    },
    "id": "E3FuZjD4xyay",
    "outputId": "1ffaaaac-83d2-45a3-ceaf-ddfa2bda9cc2"
   },
   "outputs": [],
   "source": [
    "df1"
   ]
  },
  {
   "cell_type": "code",
   "execution_count": null,
   "metadata": {
    "id": "FVYlmG0eyJwq"
   },
   "outputs": [],
   "source": [
    "# Map function"
   ]
  },
  {
   "cell_type": "code",
   "execution_count": null,
   "metadata": {
    "colab": {
     "base_uri": "https://localhost:8080/",
     "height": 269
    },
    "id": "aYntlJJAy4i7",
    "outputId": "f211556b-0b4f-43e3-8450-78394bda5749"
   },
   "outputs": [],
   "source": [
    "df1"
   ]
  },
  {
   "cell_type": "code",
   "execution_count": null,
   "metadata": {
    "colab": {
     "base_uri": "https://localhost:8080/"
    },
    "id": "bhegk9TpzjmO",
    "outputId": "8a70cba1-6a85-4f86-9020-78c36ba83c04"
   },
   "outputs": [],
   "source": [
    "df1['Gender'].unique()"
   ]
  },
  {
   "cell_type": "code",
   "execution_count": null,
   "metadata": {
    "id": "A0sraq3Ly7sM"
   },
   "outputs": [],
   "source": [
    "df1['Male_Female']=df1['Gender'].map({'Male':1,'Female':0})"
   ]
  },
  {
   "cell_type": "code",
   "execution_count": null,
   "metadata": {
    "colab": {
     "base_uri": "https://localhost:8080/",
     "height": 269
    },
    "id": "sS0NmM0wzNSh",
    "outputId": "6ccba5e9-9a41-43d1-eb47-a875e57a4b59"
   },
   "outputs": [],
   "source": [
    "df1"
   ]
  },
  {
   "cell_type": "code",
   "execution_count": null,
   "metadata": {
    "colab": {
     "base_uri": "https://localhost:8080/",
     "height": 269
    },
    "id": "YXKg6cdszcas",
    "outputId": "a5eb673f-0fcc-4992-c58a-648413aefdcb"
   },
   "outputs": [],
   "source": [
    "df1.drop('Male_Female',axis=1)"
   ]
  },
  {
   "cell_type": "code",
   "execution_count": null,
   "metadata": {
    "colab": {
     "base_uri": "https://localhost:8080/",
     "height": 269
    },
    "id": "gxUpGFmh0Mz5",
    "outputId": "a56a53ad-7831-4a7b-f45d-03e3330d0cd4"
   },
   "outputs": [],
   "source": [
    "df1"
   ]
  },
  {
   "cell_type": "code",
   "execution_count": null,
   "metadata": {
    "id": "TZLcCRMt0Uxo"
   },
   "outputs": [],
   "source": [
    "# inplace"
   ]
  },
  {
   "cell_type": "code",
   "execution_count": null,
   "metadata": {
    "id": "XSKJZ5iC01JH"
   },
   "outputs": [],
   "source": [
    "# sort the dataframe as per the marks column"
   ]
  },
  {
   "cell_type": "code",
   "execution_count": null,
   "metadata": {
    "colab": {
     "base_uri": "https://localhost:8080/",
     "height": 269
    },
    "id": "ux0dfS7g08Dx",
    "outputId": "e2cdd209-3f84-4555-94fd-d41f33804284"
   },
   "outputs": [],
   "source": [
    "df1"
   ]
  },
  {
   "cell_type": "code",
   "execution_count": null,
   "metadata": {
    "colab": {
     "base_uri": "https://localhost:8080/",
     "height": 269
    },
    "id": "evSbAS9K09XA",
    "outputId": "5d004c00-66cd-445b-cb3a-27607d6e9d98"
   },
   "outputs": [],
   "source": [
    "df1.sort_values(by='Marks',ascending=False)"
   ]
  },
  {
   "cell_type": "code",
   "execution_count": null,
   "metadata": {
    "id": "gdpSxZ1C1ET4"
   },
   "outputs": [],
   "source": [
    "# Display Name & Marks of the female students"
   ]
  },
  {
   "cell_type": "code",
   "execution_count": null,
   "metadata": {
    "colab": {
     "base_uri": "https://localhost:8080/",
     "height": 269
    },
    "id": "XFF0o60y1UZo",
    "outputId": "0ee1bf75-5fe8-4456-e3ea-ea3d83a53fcc"
   },
   "outputs": [],
   "source": [
    "df1"
   ]
  },
  {
   "cell_type": "code",
   "execution_count": null,
   "metadata": {
    "colab": {
     "base_uri": "https://localhost:8080/",
     "height": 175
    },
    "id": "e3okSGiQ1V_x",
    "outputId": "8dba17f7-b566-43b0-f049-83f5aa264458"
   },
   "outputs": [],
   "source": [
    "df1[df1['Gender']=='Female'][['Name','Marks']]"
   ]
  },
  {
   "cell_type": "code",
   "execution_count": null,
   "metadata": {
    "colab": {
     "base_uri": "https://localhost:8080/",
     "height": 175
    },
    "id": "fXhykoIR1ebQ",
    "outputId": "9593aee2-204e-46f8-cef4-b543d290ab47"
   },
   "outputs": [],
   "source": [
    "df1[df1['Gender'].isin(['Female'])][['Name','Marks']]"
   ]
  },
  {
   "cell_type": "code",
   "execution_count": null,
   "metadata": {
    "id": "ktfDJBN21tsG"
   },
   "outputs": [],
   "source": [
    "# Rename the marks columns"
   ]
  },
  {
   "cell_type": "code",
   "execution_count": null,
   "metadata": {
    "colab": {
     "base_uri": "https://localhost:8080/",
     "height": 269
    },
    "id": "zOAqxJiv2IOr",
    "outputId": "98c7670d-fe7b-4237-c869-2aab20b2028b"
   },
   "outputs": [],
   "source": [
    "df1.rename(columns={'Marks':\"Final_Marks\"})"
   ]
  },
  {
   "cell_type": "code",
   "execution_count": null,
   "metadata": {
    "colab": {
     "base_uri": "https://localhost:8080/",
     "height": 269
    },
    "id": "1vX0Pbwe2ZY6",
    "outputId": "bd12407d-215f-4a6c-84fd-ac355d47ba0a"
   },
   "outputs": [],
   "source": [
    "df1"
   ]
  },
  {
   "cell_type": "code",
   "execution_count": null,
   "metadata": {
    "id": "LlVX9djU2n61"
   },
   "outputs": [],
   "source": [
    "# concate two dataset"
   ]
  },
  {
   "cell_type": "code",
   "execution_count": null,
   "metadata": {
    "colab": {
     "base_uri": "https://localhost:8080/",
     "height": 269
    },
    "id": "s5vW1JBa2xEc",
    "outputId": "bf15dbe6-c506-422c-85f3-b7c5fe69b571"
   },
   "outputs": [],
   "source": [
    "df1"
   ]
  },
  {
   "cell_type": "code",
   "execution_count": null,
   "metadata": {
    "id": "5mS_jDnW2ySX"
   },
   "outputs": [],
   "source": [
    "df2 = pd.DataFrame({'Name':'Anil','Marks':90,\n",
    "                    'Gender':'Male','Email':'anil@gmail.com'},index=[0])"
   ]
  },
  {
   "cell_type": "markdown",
   "metadata": {
    "id": "xI9T-xS13jga"
   },
   "source": []
  },
  {
   "cell_type": "code",
   "execution_count": null,
   "metadata": {
    "colab": {
     "base_uri": "https://localhost:8080/",
     "height": 81
    },
    "id": "3AVObyfK3FED",
    "outputId": "adbab19d-30fd-4d31-b923-1d66852e9005"
   },
   "outputs": [],
   "source": [
    "df2"
   ]
  },
  {
   "cell_type": "code",
   "execution_count": null,
   "metadata": {
    "colab": {
     "base_uri": "https://localhost:8080/",
     "height": 384
    },
    "id": "xuwtEq713KIK",
    "outputId": "1d49dab1-251e-4256-f61c-b5eb4a47bf86"
   },
   "outputs": [],
   "source": [
    "df3 = pd.concat(df1,df2)"
   ]
  },
  {
   "cell_type": "code",
   "execution_count": null,
   "metadata": {
    "colab": {
     "base_uri": "https://localhost:8080/",
     "height": 269
    },
    "id": "F9lnttR43Qsf",
    "outputId": "850ff1de-4c68-4223-c852-625e407e4581"
   },
   "outputs": [],
   "source": [
    "dict1 ={'Name':['Priyang','Aadhya','Krisha','Vedant','Parshv',\n",
    "                'Mittal','Archana'],\n",
    "                'Marks':[98,np.nan,99,87,np.nan,83,99],\n",
    "                'Gender':['Male','Female','Female','Male','Male',\n",
    "                         'Female','Female'],\n",
    "                'Email':['priyang@gmail.com','aadhya@gmail.com',\n",
    "                        'krisha@gmail.com','vedant@yahoo.com','parshv@hotmail.com',\n",
    "                         'mittal@yahoo.com','archana@yahoo.com']\n",
    "               }\n",
    "df1=pd.DataFrame(dict1)\n",
    "df1"
   ]
  },
  {
   "cell_type": "code",
   "execution_count": null,
   "metadata": {
    "id": "Vy9kNVW43gRb"
   },
   "outputs": [],
   "source": [
    "df2 = pd.DataFrame({'Name':'Anil','Marks':90,\n",
    "                    'Gender':'Male','Email':'anil@gmail.com'},index=[0])"
   ]
  },
  {
   "cell_type": "code",
   "execution_count": null,
   "metadata": {
    "colab": {
     "base_uri": "https://localhost:8080/",
     "height": 81
    },
    "id": "WI6-6D0v3zMC",
    "outputId": "411f8a13-1f34-43d8-c4bb-4316639f01fc"
   },
   "outputs": [],
   "source": [
    "df2"
   ]
  },
  {
   "cell_type": "code",
   "execution_count": null,
   "metadata": {
    "id": "WBVvH-vI3lZ6"
   },
   "outputs": [],
   "source": [
    "df3 = pd.concat([df1,df2],ignore_index=True)"
   ]
  },
  {
   "cell_type": "code",
   "execution_count": null,
   "metadata": {
    "colab": {
     "base_uri": "https://localhost:8080/",
     "height": 300
    },
    "id": "nEO92J3s3szB",
    "outputId": "dcbccf3f-af38-4dd3-892c-9e4fbee3bfc6"
   },
   "outputs": [],
   "source": [
    "df3"
   ]
  },
  {
   "cell_type": "code",
   "execution_count": null,
   "metadata": {
    "id": "WmQD_CKk3tu4"
   },
   "outputs": [],
   "source": [
    "# loc & iloc"
   ]
  },
  {
   "cell_type": "code",
   "execution_count": null,
   "metadata": {
    "colab": {
     "base_uri": "https://localhost:8080/",
     "height": 269
    },
    "id": "aFd2nIZt4DIM",
    "outputId": "eb70a2ad-32c2-40de-ea62-204ccf229b19"
   },
   "outputs": [],
   "source": [
    "df1.loc[:,'Marks':'Gender']"
   ]
  },
  {
   "cell_type": "code",
   "execution_count": null,
   "metadata": {
    "colab": {
     "base_uri": "https://localhost:8080/"
    },
    "id": "PJwA4Mbe4KWH",
    "outputId": "bd1ba86c-76e7-42ea-d5e5-0cc86ac6133e"
   },
   "outputs": [],
   "source": [
    "df1.iloc[:,3]"
   ]
  },
  {
   "cell_type": "code",
   "execution_count": null,
   "metadata": {
    "colab": {
     "base_uri": "https://localhost:8080/",
     "height": 269
    },
    "id": "7vlcBOMk4blr",
    "outputId": "f8d9e32a-f057-4f2b-be79-87a94ab33c07"
   },
   "outputs": [],
   "source": [
    "df1"
   ]
  },
  {
   "cell_type": "code",
   "execution_count": null,
   "metadata": {
    "id": "AFUB4FPC41F8"
   },
   "outputs": [],
   "source": [
    "df1['Name_Marks']=df1['Name'] +','+ df1['Marks'].apply(str)"
   ]
  },
  {
   "cell_type": "code",
   "execution_count": null,
   "metadata": {
    "colab": {
     "base_uri": "https://localhost:8080/",
     "height": 269
    },
    "id": "FYZrIKXX5A9n",
    "outputId": "00b2f409-a5dd-47fc-d337-47ce5a4822ed"
   },
   "outputs": [],
   "source": [
    "df1"
   ]
  },
  {
   "cell_type": "code",
   "execution_count": null,
   "metadata": {
    "id": "H12Ap5IM5eS8"
   },
   "outputs": [],
   "source": [
    "# find the higest avg value as per gender"
   ]
  },
  {
   "cell_type": "code",
   "execution_count": null,
   "metadata": {
    "colab": {
     "base_uri": "https://localhost:8080/",
     "height": 143
    },
    "id": "hwZxQYWW5xlH",
    "outputId": "12737c16-3d6c-45ef-c320-1778891ea6be"
   },
   "outputs": [],
   "source": [
    "df1.groupby('Gender')['Marks'].mean().sort_values().to_frame()"
   ]
  },
  {
   "cell_type": "code",
   "execution_count": null,
   "metadata": {
    "id": "ZTE1KWv555pe"
   },
   "outputs": [],
   "source": [
    "# what are the top 5 most popular email providers"
   ]
  },
  {
   "cell_type": "code",
   "execution_count": null,
   "metadata": {
    "colab": {
     "base_uri": "https://localhost:8080/",
     "height": 269
    },
    "id": "smRsWQWn6pRD",
    "outputId": "7b307eea-a3e6-4584-d7db-8c643d94110a"
   },
   "outputs": [],
   "source": [
    "df1"
   ]
  },
  {
   "cell_type": "code",
   "execution_count": null,
   "metadata": {
    "id": "P8WkdZa-6p-3"
   },
   "outputs": [],
   "source": [
    "list1 =[]\n",
    "for email in df1['Email']:\n",
    "  list1.append(email.split('@')[1])"
   ]
  },
  {
   "cell_type": "code",
   "execution_count": null,
   "metadata": {
    "id": "I0p9Tacv7D3Z"
   },
   "outputs": [],
   "source": [
    "#df1['Email'][0].split('@')[1]"
   ]
  },
  {
   "cell_type": "code",
   "execution_count": null,
   "metadata": {
    "id": "MUolnUy47EPc"
   },
   "outputs": [],
   "source": [
    "df1['temp']=list1"
   ]
  },
  {
   "cell_type": "code",
   "execution_count": null,
   "metadata": {
    "colab": {
     "base_uri": "https://localhost:8080/",
     "height": 269
    },
    "id": "2z2Cl7TP73AE",
    "outputId": "f89d1bce-00bb-45a0-db72-8055b3e6b6c6"
   },
   "outputs": [],
   "source": [
    "df1"
   ]
  },
  {
   "cell_type": "code",
   "execution_count": null,
   "metadata": {
    "colab": {
     "base_uri": "https://localhost:8080/"
    },
    "id": "sbEzuZyn7808",
    "outputId": "c2ffff5f-acba-4321-db04-54f7736d851b"
   },
   "outputs": [],
   "source": [
    "df1['temp'].value_counts()"
   ]
  },
  {
   "cell_type": "code",
   "execution_count": null,
   "metadata": {
    "colab": {
     "base_uri": "https://localhost:8080/"
    },
    "id": "Nynwjs2F8Erd",
    "outputId": "0057971b-fdf9-4ad6-a768-bc515cb6135f"
   },
   "outputs": [],
   "source": [
    "df1['Email'].apply(lambda x:x.split('@')[1]).value_counts().head()"
   ]
  },
  {
   "cell_type": "code",
   "execution_count": null,
   "metadata": {
    "id": "9wxNTRji8RnE"
   },
   "outputs": [],
   "source": []
  }
 ],
 "metadata": {
  "colab": {
   "collapsed_sections": [],
   "provenance": []
  },
  "kernelspec": {
   "display_name": "Python 3 (ipykernel)",
   "language": "python",
   "name": "python3"
  },
  "language_info": {
   "codemirror_mode": {
    "name": "ipython",
    "version": 3
   },
   "file_extension": ".py",
   "mimetype": "text/x-python",
   "name": "python",
   "nbconvert_exporter": "python",
   "pygments_lexer": "ipython3",
   "version": "3.12.4"
  }
 },
 "nbformat": 4,
 "nbformat_minor": 4
}
