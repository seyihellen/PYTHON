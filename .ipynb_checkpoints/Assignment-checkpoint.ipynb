{
 "cells": [
  {
   "cell_type": "code",
   "execution_count": 129,
   "id": "d0dcfd7c-b7b1-4325-a9ec-93e2330b9416",
   "metadata": {},
   "outputs": [],
   "source": [
    "import numpy as np\n",
    "import pandas as pd"
   ]
  },
  {
   "cell_type": "code",
   "execution_count": 130,
   "id": "1d068153-cbca-42c1-9b30-3f9730e878d8",
   "metadata": {},
   "outputs": [
    {
     "data": {
      "text/html": [
       "<div>\n",
       "<style scoped>\n",
       "    .dataframe tbody tr th:only-of-type {\n",
       "        vertical-align: middle;\n",
       "    }\n",
       "\n",
       "    .dataframe tbody tr th {\n",
       "        vertical-align: top;\n",
       "    }\n",
       "\n",
       "    .dataframe thead th {\n",
       "        text-align: right;\n",
       "    }\n",
       "</style>\n",
       "<table border=\"1\" class=\"dataframe\">\n",
       "  <thead>\n",
       "    <tr style=\"text-align: right;\">\n",
       "      <th></th>\n",
       "      <th>Name</th>\n",
       "      <th>Marks</th>\n",
       "      <th>Gender</th>\n",
       "      <th>Email</th>\n",
       "    </tr>\n",
       "  </thead>\n",
       "  <tbody>\n",
       "    <tr>\n",
       "      <th>0</th>\n",
       "      <td>Tolani</td>\n",
       "      <td>98.0</td>\n",
       "      <td>Male</td>\n",
       "      <td>tolani@gmail.com</td>\n",
       "    </tr>\n",
       "    <tr>\n",
       "      <th>1</th>\n",
       "      <td>Tope</td>\n",
       "      <td>NaN</td>\n",
       "      <td>Female</td>\n",
       "      <td>tope@gmail.com</td>\n",
       "    </tr>\n",
       "    <tr>\n",
       "      <th>2</th>\n",
       "      <td>Halima</td>\n",
       "      <td>99.0</td>\n",
       "      <td>Female</td>\n",
       "      <td>hal@gmail.com</td>\n",
       "    </tr>\n",
       "    <tr>\n",
       "      <th>3</th>\n",
       "      <td>Venny</td>\n",
       "      <td>87.0</td>\n",
       "      <td>Female</td>\n",
       "      <td>ven@yahoo.com</td>\n",
       "    </tr>\n",
       "    <tr>\n",
       "      <th>4</th>\n",
       "      <td>Brenda</td>\n",
       "      <td>NaN</td>\n",
       "      <td>Female</td>\n",
       "      <td>brendy@hotmail.com</td>\n",
       "    </tr>\n",
       "    <tr>\n",
       "      <th>5</th>\n",
       "      <td>Femi</td>\n",
       "      <td>83.0</td>\n",
       "      <td>Male</td>\n",
       "      <td>fm@yahoo.com</td>\n",
       "    </tr>\n",
       "    <tr>\n",
       "      <th>6</th>\n",
       "      <td>Alaba</td>\n",
       "      <td>99.0</td>\n",
       "      <td>Male</td>\n",
       "      <td>alaba@yahoo.com</td>\n",
       "    </tr>\n",
       "  </tbody>\n",
       "</table>\n",
       "</div>"
      ],
      "text/plain": [
       "     Name  Marks  Gender               Email\n",
       "0  Tolani   98.0    Male    tolani@gmail.com\n",
       "1    Tope    NaN  Female      tope@gmail.com\n",
       "2  Halima   99.0  Female       hal@gmail.com\n",
       "3   Venny   87.0  Female       ven@yahoo.com\n",
       "4  Brenda    NaN  Female  brendy@hotmail.com\n",
       "5    Femi   83.0    Male        fm@yahoo.com\n",
       "6   Alaba   99.0    Male     alaba@yahoo.com"
      ]
     },
     "execution_count": 130,
     "metadata": {},
     "output_type": "execute_result"
    }
   ],
   "source": [
    "dict1 ={'Name':['Tolani','Tope','Halima','Venny','Brenda',\n",
    "                'Femi','Alaba'],\n",
    "                'Marks':[98,np.nan,99,87,np.nan,83,99],\n",
    "                'Gender':['Male','Female','Female','Female','Female',\n",
    "                         'Male','Male'],\n",
    "                'Email':['tolani@gmail.com','tope@gmail.com',\n",
    "                        'hal@gmail.com','ven@yahoo.com','brendy@hotmail.com',\n",
    "                         'fm@yahoo.com','alaba@yahoo.com']}\n",
    "df1=pd.DataFrame(dict1)\n",
    "df1"
   ]
  },
  {
   "cell_type": "code",
   "execution_count": 131,
   "id": "f4954521-2b9a-4cd8-a807-77088c6a6f68",
   "metadata": {},
   "outputs": [],
   "source": [
    "df2=pd.DataFrame({'Name':'Folake', \n",
    "      'Marks':88.5,\n",
    "      'Email':'Folly@gmail.com',\n",
    "      'Gender':'Female'},index=[0])"
   ]
  },
  {
   "cell_type": "code",
   "execution_count": 132,
   "id": "62a9d3eb-598b-4deb-bc0c-a2f7a14f735e",
   "metadata": {},
   "outputs": [
    {
     "data": {
      "text/html": [
       "<div>\n",
       "<style scoped>\n",
       "    .dataframe tbody tr th:only-of-type {\n",
       "        vertical-align: middle;\n",
       "    }\n",
       "\n",
       "    .dataframe tbody tr th {\n",
       "        vertical-align: top;\n",
       "    }\n",
       "\n",
       "    .dataframe thead th {\n",
       "        text-align: right;\n",
       "    }\n",
       "</style>\n",
       "<table border=\"1\" class=\"dataframe\">\n",
       "  <thead>\n",
       "    <tr style=\"text-align: right;\">\n",
       "      <th></th>\n",
       "      <th>Name</th>\n",
       "      <th>Marks</th>\n",
       "      <th>Email</th>\n",
       "      <th>Gender</th>\n",
       "    </tr>\n",
       "  </thead>\n",
       "  <tbody>\n",
       "    <tr>\n",
       "      <th>0</th>\n",
       "      <td>Folake</td>\n",
       "      <td>88.5</td>\n",
       "      <td>Folly@gmail.com</td>\n",
       "      <td>Female</td>\n",
       "    </tr>\n",
       "  </tbody>\n",
       "</table>\n",
       "</div>"
      ],
      "text/plain": [
       "     Name  Marks            Email  Gender\n",
       "0  Folake   88.5  Folly@gmail.com  Female"
      ]
     },
     "execution_count": 132,
     "metadata": {},
     "output_type": "execute_result"
    }
   ],
   "source": [
    "df2"
   ]
  },
  {
   "cell_type": "code",
   "execution_count": 133,
   "id": "3b78106e-509a-4450-81f0-b0dd3d39f697",
   "metadata": {},
   "outputs": [
    {
     "data": {
      "text/html": [
       "<div>\n",
       "<style scoped>\n",
       "    .dataframe tbody tr th:only-of-type {\n",
       "        vertical-align: middle;\n",
       "    }\n",
       "\n",
       "    .dataframe tbody tr th {\n",
       "        vertical-align: top;\n",
       "    }\n",
       "\n",
       "    .dataframe thead th {\n",
       "        text-align: right;\n",
       "    }\n",
       "</style>\n",
       "<table border=\"1\" class=\"dataframe\">\n",
       "  <thead>\n",
       "    <tr style=\"text-align: right;\">\n",
       "      <th></th>\n",
       "      <th>Name</th>\n",
       "      <th>Marks</th>\n",
       "      <th>Gender</th>\n",
       "      <th>Email</th>\n",
       "    </tr>\n",
       "  </thead>\n",
       "  <tbody>\n",
       "    <tr>\n",
       "      <th>0</th>\n",
       "      <td>Tolani</td>\n",
       "      <td>98.0</td>\n",
       "      <td>Male</td>\n",
       "      <td>tolani@gmail.com</td>\n",
       "    </tr>\n",
       "    <tr>\n",
       "      <th>1</th>\n",
       "      <td>Tope</td>\n",
       "      <td>NaN</td>\n",
       "      <td>Female</td>\n",
       "      <td>tope@gmail.com</td>\n",
       "    </tr>\n",
       "    <tr>\n",
       "      <th>2</th>\n",
       "      <td>Halima</td>\n",
       "      <td>99.0</td>\n",
       "      <td>Female</td>\n",
       "      <td>hal@gmail.com</td>\n",
       "    </tr>\n",
       "    <tr>\n",
       "      <th>3</th>\n",
       "      <td>Venny</td>\n",
       "      <td>87.0</td>\n",
       "      <td>Female</td>\n",
       "      <td>ven@yahoo.com</td>\n",
       "    </tr>\n",
       "    <tr>\n",
       "      <th>4</th>\n",
       "      <td>Brenda</td>\n",
       "      <td>NaN</td>\n",
       "      <td>Female</td>\n",
       "      <td>brendy@hotmail.com</td>\n",
       "    </tr>\n",
       "    <tr>\n",
       "      <th>5</th>\n",
       "      <td>Femi</td>\n",
       "      <td>83.0</td>\n",
       "      <td>Male</td>\n",
       "      <td>fm@yahoo.com</td>\n",
       "    </tr>\n",
       "    <tr>\n",
       "      <th>6</th>\n",
       "      <td>Alaba</td>\n",
       "      <td>99.0</td>\n",
       "      <td>Male</td>\n",
       "      <td>alaba@yahoo.com</td>\n",
       "    </tr>\n",
       "    <tr>\n",
       "      <th>7</th>\n",
       "      <td>Folake</td>\n",
       "      <td>88.5</td>\n",
       "      <td>Female</td>\n",
       "      <td>Folly@gmail.com</td>\n",
       "    </tr>\n",
       "  </tbody>\n",
       "</table>\n",
       "</div>"
      ],
      "text/plain": [
       "     Name  Marks  Gender               Email\n",
       "0  Tolani   98.0    Male    tolani@gmail.com\n",
       "1    Tope    NaN  Female      tope@gmail.com\n",
       "2  Halima   99.0  Female       hal@gmail.com\n",
       "3   Venny   87.0  Female       ven@yahoo.com\n",
       "4  Brenda    NaN  Female  brendy@hotmail.com\n",
       "5    Femi   83.0    Male        fm@yahoo.com\n",
       "6   Alaba   99.0    Male     alaba@yahoo.com\n",
       "7  Folake   88.5  Female     Folly@gmail.com"
      ]
     },
     "execution_count": 133,
     "metadata": {},
     "output_type": "execute_result"
    }
   ],
   "source": [
    "pd.concat([df1,df2],ignore_index=True)"
   ]
  },
  {
   "cell_type": "code",
   "execution_count": 134,
   "id": "4eb2cb81-7015-4098-a30d-7a1d466dd698",
   "metadata": {},
   "outputs": [],
   "source": [
    "df3=pd.concat([df1,df2],ignore_index=True)"
   ]
  },
  {
   "cell_type": "code",
   "execution_count": 135,
   "id": "c6b43161-960b-40cc-b416-d44b0c5db703",
   "metadata": {},
   "outputs": [
    {
     "data": {
      "text/html": [
       "<div>\n",
       "<style scoped>\n",
       "    .dataframe tbody tr th:only-of-type {\n",
       "        vertical-align: middle;\n",
       "    }\n",
       "\n",
       "    .dataframe tbody tr th {\n",
       "        vertical-align: top;\n",
       "    }\n",
       "\n",
       "    .dataframe thead th {\n",
       "        text-align: right;\n",
       "    }\n",
       "</style>\n",
       "<table border=\"1\" class=\"dataframe\">\n",
       "  <thead>\n",
       "    <tr style=\"text-align: right;\">\n",
       "      <th></th>\n",
       "      <th>Name</th>\n",
       "      <th>Marks</th>\n",
       "      <th>Gender</th>\n",
       "      <th>Email</th>\n",
       "    </tr>\n",
       "  </thead>\n",
       "  <tbody>\n",
       "    <tr>\n",
       "      <th>0</th>\n",
       "      <td>Tolani</td>\n",
       "      <td>98.0</td>\n",
       "      <td>Male</td>\n",
       "      <td>tolani@gmail.com</td>\n",
       "    </tr>\n",
       "    <tr>\n",
       "      <th>1</th>\n",
       "      <td>Tope</td>\n",
       "      <td>NaN</td>\n",
       "      <td>Female</td>\n",
       "      <td>tope@gmail.com</td>\n",
       "    </tr>\n",
       "    <tr>\n",
       "      <th>2</th>\n",
       "      <td>Halima</td>\n",
       "      <td>99.0</td>\n",
       "      <td>Female</td>\n",
       "      <td>hal@gmail.com</td>\n",
       "    </tr>\n",
       "  </tbody>\n",
       "</table>\n",
       "</div>"
      ],
      "text/plain": [
       "     Name  Marks  Gender             Email\n",
       "0  Tolani   98.0    Male  tolani@gmail.com\n",
       "1    Tope    NaN  Female    tope@gmail.com\n",
       "2  Halima   99.0  Female     hal@gmail.com"
      ]
     },
     "execution_count": 135,
     "metadata": {},
     "output_type": "execute_result"
    }
   ],
   "source": [
    "df3.head(3)"
   ]
  },
  {
   "cell_type": "code",
   "execution_count": 136,
   "id": "7c34d992-f179-40f4-8212-ffe76aedb0ed",
   "metadata": {},
   "outputs": [
    {
     "data": {
      "text/html": [
       "<div>\n",
       "<style scoped>\n",
       "    .dataframe tbody tr th:only-of-type {\n",
       "        vertical-align: middle;\n",
       "    }\n",
       "\n",
       "    .dataframe tbody tr th {\n",
       "        vertical-align: top;\n",
       "    }\n",
       "\n",
       "    .dataframe thead th {\n",
       "        text-align: right;\n",
       "    }\n",
       "</style>\n",
       "<table border=\"1\" class=\"dataframe\">\n",
       "  <thead>\n",
       "    <tr style=\"text-align: right;\">\n",
       "      <th></th>\n",
       "      <th>Name</th>\n",
       "      <th>Marks</th>\n",
       "      <th>Gender</th>\n",
       "      <th>Email</th>\n",
       "    </tr>\n",
       "  </thead>\n",
       "  <tbody>\n",
       "    <tr>\n",
       "      <th>5</th>\n",
       "      <td>Femi</td>\n",
       "      <td>83.0</td>\n",
       "      <td>Male</td>\n",
       "      <td>fm@yahoo.com</td>\n",
       "    </tr>\n",
       "    <tr>\n",
       "      <th>6</th>\n",
       "      <td>Alaba</td>\n",
       "      <td>99.0</td>\n",
       "      <td>Male</td>\n",
       "      <td>alaba@yahoo.com</td>\n",
       "    </tr>\n",
       "    <tr>\n",
       "      <th>7</th>\n",
       "      <td>Folake</td>\n",
       "      <td>88.5</td>\n",
       "      <td>Female</td>\n",
       "      <td>Folly@gmail.com</td>\n",
       "    </tr>\n",
       "  </tbody>\n",
       "</table>\n",
       "</div>"
      ],
      "text/plain": [
       "     Name  Marks  Gender            Email\n",
       "5    Femi   83.0    Male     fm@yahoo.com\n",
       "6   Alaba   99.0    Male  alaba@yahoo.com\n",
       "7  Folake   88.5  Female  Folly@gmail.com"
      ]
     },
     "execution_count": 136,
     "metadata": {},
     "output_type": "execute_result"
    }
   ],
   "source": [
    "df3.tail(3)"
   ]
  },
  {
   "cell_type": "code",
   "execution_count": 137,
   "id": "b109d286-ff87-4235-90aa-5035b1e91895",
   "metadata": {},
   "outputs": [
    {
     "data": {
      "text/html": [
       "<div>\n",
       "<style scoped>\n",
       "    .dataframe tbody tr th:only-of-type {\n",
       "        vertical-align: middle;\n",
       "    }\n",
       "\n",
       "    .dataframe tbody tr th {\n",
       "        vertical-align: top;\n",
       "    }\n",
       "\n",
       "    .dataframe thead th {\n",
       "        text-align: right;\n",
       "    }\n",
       "</style>\n",
       "<table border=\"1\" class=\"dataframe\">\n",
       "  <thead>\n",
       "    <tr style=\"text-align: right;\">\n",
       "      <th></th>\n",
       "      <th>Name</th>\n",
       "      <th>Marks</th>\n",
       "      <th>Gender</th>\n",
       "      <th>Email</th>\n",
       "    </tr>\n",
       "  </thead>\n",
       "  <tbody>\n",
       "    <tr>\n",
       "      <th>0</th>\n",
       "      <td>Tolani</td>\n",
       "      <td>98.0</td>\n",
       "      <td>Male</td>\n",
       "      <td>tolani@gmail.com</td>\n",
       "    </tr>\n",
       "    <tr>\n",
       "      <th>1</th>\n",
       "      <td>Tope</td>\n",
       "      <td>NaN</td>\n",
       "      <td>Female</td>\n",
       "      <td>tope@gmail.com</td>\n",
       "    </tr>\n",
       "    <tr>\n",
       "      <th>2</th>\n",
       "      <td>Halima</td>\n",
       "      <td>99.0</td>\n",
       "      <td>Female</td>\n",
       "      <td>hal@gmail.com</td>\n",
       "    </tr>\n",
       "    <tr>\n",
       "      <th>3</th>\n",
       "      <td>Venny</td>\n",
       "      <td>87.0</td>\n",
       "      <td>Female</td>\n",
       "      <td>ven@yahoo.com</td>\n",
       "    </tr>\n",
       "    <tr>\n",
       "      <th>4</th>\n",
       "      <td>Brenda</td>\n",
       "      <td>NaN</td>\n",
       "      <td>Female</td>\n",
       "      <td>brendy@hotmail.com</td>\n",
       "    </tr>\n",
       "    <tr>\n",
       "      <th>5</th>\n",
       "      <td>Femi</td>\n",
       "      <td>83.0</td>\n",
       "      <td>Male</td>\n",
       "      <td>fm@yahoo.com</td>\n",
       "    </tr>\n",
       "  </tbody>\n",
       "</table>\n",
       "</div>"
      ],
      "text/plain": [
       "     Name  Marks  Gender               Email\n",
       "0  Tolani   98.0    Male    tolani@gmail.com\n",
       "1    Tope    NaN  Female      tope@gmail.com\n",
       "2  Halima   99.0  Female       hal@gmail.com\n",
       "3   Venny   87.0  Female       ven@yahoo.com\n",
       "4  Brenda    NaN  Female  brendy@hotmail.com\n",
       "5    Femi   83.0    Male        fm@yahoo.com"
      ]
     },
     "execution_count": 137,
     "metadata": {},
     "output_type": "execute_result"
    }
   ],
   "source": [
    "df3.head(-2)"
   ]
  },
  {
   "cell_type": "code",
   "execution_count": 138,
   "id": "06f92dba-0e58-459f-baac-41a0c1a999a9",
   "metadata": {},
   "outputs": [
    {
     "data": {
      "text/html": [
       "<div>\n",
       "<style scoped>\n",
       "    .dataframe tbody tr th:only-of-type {\n",
       "        vertical-align: middle;\n",
       "    }\n",
       "\n",
       "    .dataframe tbody tr th {\n",
       "        vertical-align: top;\n",
       "    }\n",
       "\n",
       "    .dataframe thead th {\n",
       "        text-align: right;\n",
       "    }\n",
       "</style>\n",
       "<table border=\"1\" class=\"dataframe\">\n",
       "  <thead>\n",
       "    <tr style=\"text-align: right;\">\n",
       "      <th></th>\n",
       "      <th>Name</th>\n",
       "      <th>Marks</th>\n",
       "      <th>Gender</th>\n",
       "      <th>Email</th>\n",
       "    </tr>\n",
       "  </thead>\n",
       "  <tbody>\n",
       "    <tr>\n",
       "      <th>0</th>\n",
       "      <td>Tolani</td>\n",
       "      <td>98.0</td>\n",
       "      <td>Male</td>\n",
       "      <td>tolani@gmail.com</td>\n",
       "    </tr>\n",
       "    <tr>\n",
       "      <th>1</th>\n",
       "      <td>Tope</td>\n",
       "      <td>NaN</td>\n",
       "      <td>Female</td>\n",
       "      <td>tope@gmail.com</td>\n",
       "    </tr>\n",
       "    <tr>\n",
       "      <th>2</th>\n",
       "      <td>Halima</td>\n",
       "      <td>99.0</td>\n",
       "      <td>Female</td>\n",
       "      <td>hal@gmail.com</td>\n",
       "    </tr>\n",
       "    <tr>\n",
       "      <th>3</th>\n",
       "      <td>Venny</td>\n",
       "      <td>87.0</td>\n",
       "      <td>Female</td>\n",
       "      <td>ven@yahoo.com</td>\n",
       "    </tr>\n",
       "    <tr>\n",
       "      <th>4</th>\n",
       "      <td>Brenda</td>\n",
       "      <td>NaN</td>\n",
       "      <td>Female</td>\n",
       "      <td>brendy@hotmail.com</td>\n",
       "    </tr>\n",
       "  </tbody>\n",
       "</table>\n",
       "</div>"
      ],
      "text/plain": [
       "     Name  Marks  Gender               Email\n",
       "0  Tolani   98.0    Male    tolani@gmail.com\n",
       "1    Tope    NaN  Female      tope@gmail.com\n",
       "2  Halima   99.0  Female       hal@gmail.com\n",
       "3   Venny   87.0  Female       ven@yahoo.com\n",
       "4  Brenda    NaN  Female  brendy@hotmail.com"
      ]
     },
     "execution_count": 138,
     "metadata": {},
     "output_type": "execute_result"
    }
   ],
   "source": [
    "df3.head(-3)"
   ]
  },
  {
   "cell_type": "code",
   "execution_count": 139,
   "id": "c0a5b7b8-34ea-4ae3-9fab-6c3c60b7b1fd",
   "metadata": {},
   "outputs": [
    {
     "data": {
      "text/plain": [
       "(8, 4)"
      ]
     },
     "execution_count": 139,
     "metadata": {},
     "output_type": "execute_result"
    }
   ],
   "source": [
    "df3.shape"
   ]
  },
  {
   "cell_type": "code",
   "execution_count": 140,
   "id": "12b9c953-fc16-4091-93a7-279a43e51d52",
   "metadata": {},
   "outputs": [
    {
     "name": "stdout",
     "output_type": "stream",
     "text": [
      "Number of rows is 8\n"
     ]
    }
   ],
   "source": [
    "print(\"Number of rows is\",df3.shape[0])"
   ]
  },
  {
   "cell_type": "code",
   "execution_count": 141,
   "id": "8bc98361-50c3-4f82-b24c-3e9695b97d87",
   "metadata": {},
   "outputs": [
    {
     "name": "stdout",
     "output_type": "stream",
     "text": [
      "Number of columns 4\n"
     ]
    }
   ],
   "source": [
    "print('Number of columns',df3.shape[1])"
   ]
  },
  {
   "cell_type": "code",
   "execution_count": 142,
   "id": "68e776ea-9154-4d33-aef7-fa4a7a8ce390",
   "metadata": {},
   "outputs": [
    {
     "name": "stdout",
     "output_type": "stream",
     "text": [
      "<class 'pandas.core.frame.DataFrame'>\n",
      "RangeIndex: 8 entries, 0 to 7\n",
      "Data columns (total 4 columns):\n",
      " #   Column  Non-Null Count  Dtype  \n",
      "---  ------  --------------  -----  \n",
      " 0   Name    8 non-null      object \n",
      " 1   Marks   6 non-null      float64\n",
      " 2   Gender  8 non-null      object \n",
      " 3   Email   8 non-null      object \n",
      "dtypes: float64(1), object(3)\n",
      "memory usage: 388.0+ bytes\n"
     ]
    }
   ],
   "source": [
    "df3.info()"
   ]
  },
  {
   "cell_type": "code",
   "execution_count": 143,
   "id": "7b3edbbe-0251-4135-b028-6c705827b3fd",
   "metadata": {},
   "outputs": [
    {
     "data": {
      "text/plain": [
       "Name      0\n",
       "Marks     2\n",
       "Gender    0\n",
       "Email     0\n",
       "dtype: int64"
      ]
     },
     "execution_count": 143,
     "metadata": {},
     "output_type": "execute_result"
    }
   ],
   "source": [
    "df3.isnull().sum()"
   ]
  },
  {
   "cell_type": "code",
   "execution_count": 144,
   "id": "ecbb432a-a228-4924-91df-ff73eb0f1310",
   "metadata": {},
   "outputs": [
    {
     "data": {
      "text/plain": [
       "0    Tolani\n",
       "1      Tope\n",
       "2    Halima\n",
       "3     Venny\n",
       "4    Brenda\n",
       "5      Femi\n",
       "6     Alaba\n",
       "7    Folake\n",
       "Name: Name, dtype: object"
      ]
     },
     "execution_count": 144,
     "metadata": {},
     "output_type": "execute_result"
    }
   ],
   "source": [
    "df3['Name']"
   ]
  },
  {
   "cell_type": "code",
   "execution_count": 145,
   "id": "d21b9060-aa86-41fd-b04b-aedc68761d9a",
   "metadata": {},
   "outputs": [
    {
     "data": {
      "text/plain": [
       "array(['Tolani', 'Tope', 'Halima', 'Venny', 'Brenda', 'Femi', 'Alaba',\n",
       "       'Folake'], dtype=object)"
      ]
     },
     "execution_count": 145,
     "metadata": {},
     "output_type": "execute_result"
    }
   ],
   "source": [
    "df3['Name'].unique()"
   ]
  },
  {
   "cell_type": "code",
   "execution_count": 146,
   "id": "c5655a76-d444-4214-9a79-c8215604a6e6",
   "metadata": {},
   "outputs": [
    {
     "data": {
      "text/plain": [
       "array(['Male', 'Female'], dtype=object)"
      ]
     },
     "execution_count": 146,
     "metadata": {},
     "output_type": "execute_result"
    }
   ],
   "source": [
    "df3['Gender'].unique()"
   ]
  },
  {
   "cell_type": "code",
   "execution_count": 147,
   "id": "b81f21db-f153-41c9-9b3d-3c178e8a98da",
   "metadata": {},
   "outputs": [
    {
     "data": {
      "text/plain": [
       "2"
      ]
     },
     "execution_count": 147,
     "metadata": {},
     "output_type": "execute_result"
    }
   ],
   "source": [
    "df3['Gender'].nunique()"
   ]
  },
  {
   "cell_type": "code",
   "execution_count": 148,
   "id": "b315e30f-f53c-440b-8941-efec275a5dad",
   "metadata": {},
   "outputs": [
    {
     "data": {
      "text/plain": [
       "array(['tolani@gmail.com', 'tope@gmail.com', 'hal@gmail.com',\n",
       "       'ven@yahoo.com', 'brendy@hotmail.com', 'fm@yahoo.com',\n",
       "       'alaba@yahoo.com', 'Folly@gmail.com'], dtype=object)"
      ]
     },
     "execution_count": 148,
     "metadata": {},
     "output_type": "execute_result"
    }
   ],
   "source": [
    "df3['Email'].unique()"
   ]
  },
  {
   "cell_type": "code",
   "execution_count": 149,
   "id": "b9ac99f1-be8c-47dc-a86e-eb6c1b5d82a9",
   "metadata": {},
   "outputs": [
    {
     "data": {
      "text/plain": [
       "Name      8\n",
       "Marks     5\n",
       "Gender    2\n",
       "Email     8\n",
       "dtype: int64"
      ]
     },
     "execution_count": 149,
     "metadata": {},
     "output_type": "execute_result"
    }
   ],
   "source": [
    "df3.nunique()"
   ]
  },
  {
   "cell_type": "code",
   "execution_count": 150,
   "id": "ecb83a7b-98e4-4e92-b40e-6ef1e2c3860b",
   "metadata": {},
   "outputs": [
    {
     "data": {
      "text/plain": [
       "Gender\n",
       "Female    5\n",
       "Male      3\n",
       "Name: count, dtype: int64"
      ]
     },
     "execution_count": 150,
     "metadata": {},
     "output_type": "execute_result"
    }
   ],
   "source": [
    "df3['Gender'].value_counts()"
   ]
  },
  {
   "cell_type": "code",
   "execution_count": 151,
   "id": "6d1abcec-cc19-4fe6-8b1e-68d7770a6ce4",
   "metadata": {},
   "outputs": [
    {
     "data": {
      "text/plain": [
       "92.41666666666667"
      ]
     },
     "execution_count": 151,
     "metadata": {},
     "output_type": "execute_result"
    }
   ],
   "source": [
    "df3['Marks'].mean()"
   ]
  },
  {
   "cell_type": "code",
   "execution_count": 152,
   "id": "ecc28ff0-2703-4116-ab79-40de4127e3ea",
   "metadata": {},
   "outputs": [
    {
     "data": {
      "text/plain": [
       "0    98.000000\n",
       "1    92.416667\n",
       "2    99.000000\n",
       "3    87.000000\n",
       "4    92.416667\n",
       "5    83.000000\n",
       "6    99.000000\n",
       "7    88.500000\n",
       "Name: Marks, dtype: float64"
      ]
     },
     "execution_count": 152,
     "metadata": {},
     "output_type": "execute_result"
    }
   ],
   "source": [
    "df3['Marks'].fillna(92.41666666666667)"
   ]
  },
  {
   "cell_type": "code",
   "execution_count": 153,
   "id": "5a7b9e5c-9247-4b1a-be9a-9f98b353aa35",
   "metadata": {},
   "outputs": [],
   "source": [
    "df3['Marks']=df3['Marks'].fillna(92.41666666666667)\n"
   ]
  },
  {
   "cell_type": "code",
   "execution_count": 154,
   "id": "a829566a-0aee-4359-b5f9-a9717b6c2167",
   "metadata": {},
   "outputs": [
    {
     "data": {
      "text/plain": [
       "Index(['Name', 'Marks', 'Gender', 'Email'], dtype='object')"
      ]
     },
     "execution_count": 154,
     "metadata": {},
     "output_type": "execute_result"
    }
   ],
   "source": [
    "df3.columns\n"
   ]
  },
  {
   "cell_type": "code",
   "execution_count": 155,
   "id": "8a928e94-e978-4aa2-a582-cedf78b7fee7",
   "metadata": {},
   "outputs": [
    {
     "data": {
      "text/plain": [
       "array(['Male', 'Female'], dtype=object)"
      ]
     },
     "execution_count": 155,
     "metadata": {},
     "output_type": "execute_result"
    }
   ],
   "source": [
    "df3['Gender'].unique()"
   ]
  },
  {
   "cell_type": "code",
   "execution_count": 156,
   "id": "041124c8-f29f-4af9-b44d-ec0c8f2f33dc",
   "metadata": {},
   "outputs": [
    {
     "data": {
      "text/plain": [
       "0    1\n",
       "1    0\n",
       "2    0\n",
       "3    0\n",
       "4    0\n",
       "5    1\n",
       "6    1\n",
       "7    0\n",
       "Name: Gender, dtype: int64"
      ]
     },
     "execution_count": 156,
     "metadata": {},
     "output_type": "execute_result"
    }
   ],
   "source": [
    "df3['Gender'].map({'Male':1,'Female':0})"
   ]
  },
  {
   "cell_type": "code",
   "execution_count": 157,
   "id": "40a23d9d-726b-4317-b89f-f27e89c27e93",
   "metadata": {},
   "outputs": [],
   "source": [
    "df3['New Gender']=df3['Gender'].map({'Male':1,'Female':0})"
   ]
  },
  {
   "cell_type": "code",
   "execution_count": 158,
   "id": "5b814dd3-d691-460b-9c83-2819a71b55e4",
   "metadata": {},
   "outputs": [
    {
     "data": {
      "text/plain": [
       "0    1\n",
       "1    0\n",
       "2    0\n",
       "3    0\n",
       "4    0\n",
       "5    1\n",
       "6    1\n",
       "7    0\n",
       "Name: New Gender, dtype: int64"
      ]
     },
     "execution_count": 158,
     "metadata": {},
     "output_type": "execute_result"
    }
   ],
   "source": [
    "df3['New Gender']"
   ]
  },
  {
   "cell_type": "code",
   "execution_count": 159,
   "id": "47988ba5-3e65-4607-abf0-021da3f648ea",
   "metadata": {},
   "outputs": [
    {
     "data": {
      "text/html": [
       "<div>\n",
       "<style scoped>\n",
       "    .dataframe tbody tr th:only-of-type {\n",
       "        vertical-align: middle;\n",
       "    }\n",
       "\n",
       "    .dataframe tbody tr th {\n",
       "        vertical-align: top;\n",
       "    }\n",
       "\n",
       "    .dataframe thead th {\n",
       "        text-align: right;\n",
       "    }\n",
       "</style>\n",
       "<table border=\"1\" class=\"dataframe\">\n",
       "  <thead>\n",
       "    <tr style=\"text-align: right;\">\n",
       "      <th></th>\n",
       "      <th>Name</th>\n",
       "      <th>Marks</th>\n",
       "      <th>Gender</th>\n",
       "      <th>Email</th>\n",
       "      <th>New Gender</th>\n",
       "    </tr>\n",
       "  </thead>\n",
       "  <tbody>\n",
       "    <tr>\n",
       "      <th>0</th>\n",
       "      <td>Tolani</td>\n",
       "      <td>98.000000</td>\n",
       "      <td>Male</td>\n",
       "      <td>tolani@gmail.com</td>\n",
       "      <td>1</td>\n",
       "    </tr>\n",
       "    <tr>\n",
       "      <th>1</th>\n",
       "      <td>Tope</td>\n",
       "      <td>92.416667</td>\n",
       "      <td>Female</td>\n",
       "      <td>tope@gmail.com</td>\n",
       "      <td>0</td>\n",
       "    </tr>\n",
       "    <tr>\n",
       "      <th>2</th>\n",
       "      <td>Halima</td>\n",
       "      <td>99.000000</td>\n",
       "      <td>Female</td>\n",
       "      <td>hal@gmail.com</td>\n",
       "      <td>0</td>\n",
       "    </tr>\n",
       "    <tr>\n",
       "      <th>3</th>\n",
       "      <td>Venny</td>\n",
       "      <td>87.000000</td>\n",
       "      <td>Female</td>\n",
       "      <td>ven@yahoo.com</td>\n",
       "      <td>0</td>\n",
       "    </tr>\n",
       "    <tr>\n",
       "      <th>4</th>\n",
       "      <td>Brenda</td>\n",
       "      <td>92.416667</td>\n",
       "      <td>Female</td>\n",
       "      <td>brendy@hotmail.com</td>\n",
       "      <td>0</td>\n",
       "    </tr>\n",
       "    <tr>\n",
       "      <th>5</th>\n",
       "      <td>Femi</td>\n",
       "      <td>83.000000</td>\n",
       "      <td>Male</td>\n",
       "      <td>fm@yahoo.com</td>\n",
       "      <td>1</td>\n",
       "    </tr>\n",
       "    <tr>\n",
       "      <th>6</th>\n",
       "      <td>Alaba</td>\n",
       "      <td>99.000000</td>\n",
       "      <td>Male</td>\n",
       "      <td>alaba@yahoo.com</td>\n",
       "      <td>1</td>\n",
       "    </tr>\n",
       "    <tr>\n",
       "      <th>7</th>\n",
       "      <td>Folake</td>\n",
       "      <td>88.500000</td>\n",
       "      <td>Female</td>\n",
       "      <td>Folly@gmail.com</td>\n",
       "      <td>0</td>\n",
       "    </tr>\n",
       "  </tbody>\n",
       "</table>\n",
       "</div>"
      ],
      "text/plain": [
       "     Name      Marks  Gender               Email  New Gender\n",
       "0  Tolani  98.000000    Male    tolani@gmail.com           1\n",
       "1    Tope  92.416667  Female      tope@gmail.com           0\n",
       "2  Halima  99.000000  Female       hal@gmail.com           0\n",
       "3   Venny  87.000000  Female       ven@yahoo.com           0\n",
       "4  Brenda  92.416667  Female  brendy@hotmail.com           0\n",
       "5    Femi  83.000000    Male        fm@yahoo.com           1\n",
       "6   Alaba  99.000000    Male     alaba@yahoo.com           1\n",
       "7  Folake  88.500000  Female     Folly@gmail.com           0"
      ]
     },
     "execution_count": 159,
     "metadata": {},
     "output_type": "execute_result"
    }
   ],
   "source": [
    "df3"
   ]
  },
  {
   "cell_type": "code",
   "execution_count": 160,
   "id": "86a638a8-c742-43bf-8c0e-5674d9c9c339",
   "metadata": {},
   "outputs": [],
   "source": [
    "df3=df3.drop(columns='Gender')"
   ]
  },
  {
   "cell_type": "code",
   "execution_count": 161,
   "id": "481551b6-1b1b-4d5d-8507-d09571554cca",
   "metadata": {},
   "outputs": [
    {
     "data": {
      "text/html": [
       "<div>\n",
       "<style scoped>\n",
       "    .dataframe tbody tr th:only-of-type {\n",
       "        vertical-align: middle;\n",
       "    }\n",
       "\n",
       "    .dataframe tbody tr th {\n",
       "        vertical-align: top;\n",
       "    }\n",
       "\n",
       "    .dataframe thead th {\n",
       "        text-align: right;\n",
       "    }\n",
       "</style>\n",
       "<table border=\"1\" class=\"dataframe\">\n",
       "  <thead>\n",
       "    <tr style=\"text-align: right;\">\n",
       "      <th></th>\n",
       "      <th>Name</th>\n",
       "      <th>Marks</th>\n",
       "      <th>Email</th>\n",
       "      <th>New Gender</th>\n",
       "    </tr>\n",
       "  </thead>\n",
       "  <tbody>\n",
       "    <tr>\n",
       "      <th>0</th>\n",
       "      <td>Tolani</td>\n",
       "      <td>98.000000</td>\n",
       "      <td>tolani@gmail.com</td>\n",
       "      <td>1</td>\n",
       "    </tr>\n",
       "    <tr>\n",
       "      <th>1</th>\n",
       "      <td>Tope</td>\n",
       "      <td>92.416667</td>\n",
       "      <td>tope@gmail.com</td>\n",
       "      <td>0</td>\n",
       "    </tr>\n",
       "    <tr>\n",
       "      <th>2</th>\n",
       "      <td>Halima</td>\n",
       "      <td>99.000000</td>\n",
       "      <td>hal@gmail.com</td>\n",
       "      <td>0</td>\n",
       "    </tr>\n",
       "    <tr>\n",
       "      <th>3</th>\n",
       "      <td>Venny</td>\n",
       "      <td>87.000000</td>\n",
       "      <td>ven@yahoo.com</td>\n",
       "      <td>0</td>\n",
       "    </tr>\n",
       "    <tr>\n",
       "      <th>4</th>\n",
       "      <td>Brenda</td>\n",
       "      <td>92.416667</td>\n",
       "      <td>brendy@hotmail.com</td>\n",
       "      <td>0</td>\n",
       "    </tr>\n",
       "    <tr>\n",
       "      <th>5</th>\n",
       "      <td>Femi</td>\n",
       "      <td>83.000000</td>\n",
       "      <td>fm@yahoo.com</td>\n",
       "      <td>1</td>\n",
       "    </tr>\n",
       "    <tr>\n",
       "      <th>6</th>\n",
       "      <td>Alaba</td>\n",
       "      <td>99.000000</td>\n",
       "      <td>alaba@yahoo.com</td>\n",
       "      <td>1</td>\n",
       "    </tr>\n",
       "    <tr>\n",
       "      <th>7</th>\n",
       "      <td>Folake</td>\n",
       "      <td>88.500000</td>\n",
       "      <td>Folly@gmail.com</td>\n",
       "      <td>0</td>\n",
       "    </tr>\n",
       "  </tbody>\n",
       "</table>\n",
       "</div>"
      ],
      "text/plain": [
       "     Name      Marks               Email  New Gender\n",
       "0  Tolani  98.000000    tolani@gmail.com           1\n",
       "1    Tope  92.416667      tope@gmail.com           0\n",
       "2  Halima  99.000000       hal@gmail.com           0\n",
       "3   Venny  87.000000       ven@yahoo.com           0\n",
       "4  Brenda  92.416667  brendy@hotmail.com           0\n",
       "5    Femi  83.000000        fm@yahoo.com           1\n",
       "6   Alaba  99.000000     alaba@yahoo.com           1\n",
       "7  Folake  88.500000     Folly@gmail.com           0"
      ]
     },
     "execution_count": 161,
     "metadata": {},
     "output_type": "execute_result"
    }
   ],
   "source": [
    "df3"
   ]
  },
  {
   "cell_type": "code",
   "execution_count": null,
   "id": "b5dfd5c2-5236-4bed-8612-3bff424c289a",
   "metadata": {},
   "outputs": [],
   "source": []
  }
 ],
 "metadata": {
  "kernelspec": {
   "display_name": "Python 3 (ipykernel)",
   "language": "python",
   "name": "python3"
  },
  "language_info": {
   "codemirror_mode": {
    "name": "ipython",
    "version": 3
   },
   "file_extension": ".py",
   "mimetype": "text/x-python",
   "name": "python",
   "nbconvert_exporter": "python",
   "pygments_lexer": "ipython3",
   "version": "3.12.4"
  }
 },
 "nbformat": 4,
 "nbformat_minor": 5
}
